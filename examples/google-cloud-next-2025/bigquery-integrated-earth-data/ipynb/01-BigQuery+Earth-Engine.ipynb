{
  "nbformat": 4,
  "nbformat_minor": 0,
  "metadata": {
    "colab": {
      "provenance": []
    },
    "kernelspec": {
      "name": "python3",
      "display_name": "Python 3"
    },
    "language_info": {
      "name": "python"
    }
  },
  "cells": [
    {
      "cell_type": "code",
      "source": [
        "#@title Copyright 2025 The Earth Engine Community Authors { display-mode: \"form\" }\n",
        "#\n",
        "# Licensed under the Apache License, Version 2.0 (the \"License\");\n",
        "# you may not use this file except in compliance with the License.\n",
        "# You may obtain a copy of the License at\n",
        "#\n",
        "# https://www.apache.org/licenses/LICENSE-2.0\n",
        "#\n",
        "# Unless required by applicable law or agreed to in writing, software\n",
        "# distributed under the License is distributed on an \"AS IS\" BASIS,\n",
        "# WITHOUT WARRANTIES OR CONDITIONS OF ANY KIND, either express or implied.\n",
        "# See the License for the specific language governing permissions and\n",
        "# limitations under the License."
      ],
      "metadata": {
        "id": "q-aDyOZHYtdG"
      },
      "execution_count": null,
      "outputs": []
    },
    {
      "cell_type": "code",
      "execution_count": null,
      "metadata": {
        "id": "ySWBhs8Z7kdm"
      },
      "outputs": [],
      "source": [
        "#@title Install Dependencies\n",
        "\n",
        "!pip install mapclassify xyzservices\n",
        "\n",
        "import ee\n",
        "\n",
        "import numpy as np\n",
        "import pandas as pd\n",
        "import geopandas as gpd\n",
        "\n",
        "import folium\n",
        "import mapclassify\n",
        "import xyzservices\n",
        "\n",
        "tiles =  xyzservices.TileProvider.from_qms(\"Google Satellite Hybrid\")"
      ]
    },
    {
      "cell_type": "markdown",
      "source": [],
      "metadata": {
        "id": "t14kmDK1Yrj7"
      }
    },
    {
      "cell_type": "markdown",
      "source": [
        "### 1. Authenticate and Initialize EE and BQ"
      ],
      "metadata": {
        "id": "D5UhR9RcApzn"
      }
    },
    {
      "cell_type": "code",
      "source": [
        "project_id = 'your-project-here' # Change to a project where you have EE access and User Role and the BigQuery User.\n",
        "ee.Authenticate()\n",
        "ee.Initialize(project=project_id)"
      ],
      "metadata": {
        "id": "yhS5Tfa5AGjY"
      },
      "execution_count": null,
      "outputs": []
    },
    {
      "cell_type": "markdown",
      "source": [
        "### 2. Create a GeoDataFrame of Republic of the Congo Départements\n",
        "\n",
        "This data comes from the [Overture Maps data in BigQuery's Public Data Catalog](https://https://carto.com/blog/overture-maps-data-now-on-the-cloud-use-it-with-carto) which is maintained by Google's partner, [Carto](https://carto.com/)"
      ],
      "metadata": {
        "id": "RQbpf8qRA45s"
      }
    },
    {
      "cell_type": "code",
      "source": [
        "query = \"\"\" SELECT * FROM `bigquery-public-data.overture_maps.division_area` where country = 'CG' and subtype = 'region' \"\"\"\n",
        "\n",
        "# Use the BQ client to retrieve the Republic of the Congo Départements into a Pandas DataFrame\n",
        "congo = pd.read_gbq(query,project_id=project_id)\n",
        "\n",
        "# Convert the DataFrame to a GeoDataFrame, using the geometry column\n",
        "congo = gpd.GeoDataFrame(congo, geometry=gpd.GeoSeries.from_wkt(congo.geometry), crs='epsg:4326')\n"
      ],
      "metadata": {
        "id": "xro6owZ3Bn5d"
      },
      "execution_count": null,
      "outputs": []
    },
    {
      "cell_type": "code",
      "source": [
        "m = congo.explore(tiles=tiles, attr=\"Google Maps\", name='Congo Départements')\n",
        "m"
      ],
      "metadata": {
        "id": "4D9I7udRCXhj"
      },
      "execution_count": null,
      "outputs": []
    },
    {
      "cell_type": "markdown",
      "source": [
        "### 2. Select the Earth Engine Data with which we wish to enrich the Départements' geographies.\n",
        "\n",
        "\n",
        "For this analysis, we're going to use the [ESA WorldCover](https://developers.google.com/earth-engine/datasets/catalog/ESA_WorldCover_v200#bands) data which is a global 10m landcover dataset. Specifically, we'll look at the \"tree cover\" class.\n",
        "\n",
        "![Image](https://raw.githubusercontent.com/google/earthengine-community/refs/heads/master/examples/google-cloud-next-2025/bigquery-integrated-earth-data/esa10m.png)\n"
      ],
      "metadata": {
        "id": "tM9Rum0YEQ7e"
      }
    },
    {
      "cell_type": "code",
      "source": [
        "# Create a server-side Earth Engine image by selecting the year 2021\n",
        "image = ee.Image(\"ESA/WorldCover/v200/2021\")\n",
        "\n",
        "# Visualize this image and add it to the notebook map.\n",
        "mapID = image.getMapId()\n",
        "\n",
        "# Get the Z/X/Y Tile URL pattern of the image.\n",
        "WorldCover_Tiles = mapID['tile_fetcher'].url_format\n",
        "\n",
        "# Create a new tile layer from the EE image and add it to the map.\n",
        "folium.TileLayer(\n",
        "    tiles=WorldCover_Tiles,\n",
        "    attr='ESA WorldCover 10m 2021',\n",
        "    name='ESA WorldCover',\n",
        "    overlay=True,\n",
        "    opacity=.6,\n",
        "    control=True,\n",
        "    show=True\n",
        ").add_to(m)\n",
        "\n",
        "# Add a layer control\n",
        "folium.LayerControl().add_to(m)\n",
        "\n",
        "m"
      ],
      "metadata": {
        "id": "etU8HSLQWoPs"
      },
      "execution_count": null,
      "outputs": []
    },
    {
      "cell_type": "code",
      "source": [
        "# Create an Earth Engine FeatureCollection from the GeoDataFrame\n",
        "# This will loop over the entire geodataframe and recreate the geometries\n",
        "# as features in a new Earth Engine FeatureCollection server-side.\n",
        "\n",
        "def get_ee_feature(geom):\n",
        "    x,y = geom.exterior.coords.xy\n",
        "    coords = np.dstack((x,y)).tolist()\n",
        "    g = ee.Geometry.Polygon(coords)\n",
        "    return ee.Feature(g)\n",
        "\n",
        "features = ee.FeatureCollection([get_ee_feature(x[1].geometry) for x in congo.iterrows()])\n",
        "\n",
        "# Create a selection of the WorldCover image which is just the \"tree cover\" class\n",
        "\n",
        "forest = image.eq(10)"
      ],
      "metadata": {
        "id": "3HcSzLLcSTra"
      },
      "execution_count": null,
      "outputs": []
    },
    {
      "cell_type": "markdown",
      "source": [
        "## 3. Reduce a statistic of the image for each geometry in Earth Engine and return a GeoDataFrame"
      ],
      "metadata": {
        "id": "W-JHMw7VabrD"
      }
    },
    {
      "cell_type": "code",
      "source": [
        "# Define a simple Earth Engine expression which will return the mean forest\n",
        "# coverage % for each geometry in the FeatureCollection\n",
        "\n",
        "congo_mean_forest = forest.reduceRegions(\n",
        "    collection=features,\n",
        "    reducer=ee.Reducer.mean(),\n",
        "    scale=1e3\n",
        ")\n",
        "\n",
        "# Use EE Data Converter for computeFeatures to return a GeoPandas GeoDataFrame\n",
        "\n",
        "congo_mean_forest_gdf = ee.data.computeFeatures({\n",
        "    'expression': congo_mean_forest,\n",
        "    'fileFormat': 'GEOPANDAS_GEODATAFRAME'\n",
        "})\n",
        "# Specify the coordinate reference system\n",
        "congo_mean_forest_gdf.crs = 'EPSG:4326'"
      ],
      "metadata": {
        "id": "1P8hByrPSN0s"
      },
      "execution_count": null,
      "outputs": []
    },
    {
      "cell_type": "code",
      "source": [
        "# Display a chloropleth map of Mean Forested % for each Congo Département\n",
        "\n",
        "m = congo_mean_forest_gdf.explore(\n",
        "    \"mean\",\n",
        "    cmap=\"RdYlGn\",\n",
        "    scheme=\"NaturalBreaks\",\n",
        "    tooltip=[\"mean\"],\n",
        "    tiles=tiles,\n",
        "    attr=\"Google Maps\",\n",
        "    name=\"Mean Forested %\")\n",
        "folium.TileLayer(\n",
        "    tiles=WorldCover_Tiles,\n",
        "    attr='ESA WorldCover 10m 2021',\n",
        "    name='ESA WorldCover',\n",
        "    overlay=True,\n",
        "    opacity=.1,\n",
        "    control=True,\n",
        "    show=True\n",
        ").add_to(m)\n",
        "\n",
        "# Add a layer control\n",
        "folium.LayerControl().add_to(m)\n",
        "\n",
        "m"
      ],
      "metadata": {
        "id": "cvQ_fuV9bxi5"
      },
      "execution_count": null,
      "outputs": []
    }
  ]
}