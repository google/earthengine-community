{
 "cells": [
  {
   "cell_type": "code",
   "execution_count": null,
   "metadata": {},
   "outputs": [],
   "source": [
    "#@title Copyright 2021 The Earth Engine Community Authors { display-mode: \"form\" }\n",
    "#\n",
    "# Licensed under the Apache License, Version 2.0 (the \"License\");\n",
    "# you may not use this file except in compliance with the License.\n",
    "# You may obtain a copy of the License at\n",
    "#\n",
    "# https://www.apache.org/licenses/LICENSE-2.0\n",
    "#\n",
    "# Unless required by applicable law or agreed to in writing, software\n",
    "# distributed under the License is distributed on an \"AS IS\" BASIS,\n",
    "# WITHOUT WARRANTIES OR CONDITIONS OF ANY KIND, either express or implied.\n",
    "# See the License for the specific language governing permissions and\n",
    "# limitations under the License."
   ]
  },
  {
   "cell_type": "markdown",
   "metadata": {},
   "source": [
    "# Image Information and Metadata\n",
    "\n"
   ]
  },
  {
   "cell_type": "markdown",
   "metadata": {},
   "source": [
    "Print image objects to explore band names, projection information, properties, and other metadata. The following examples demonstrate printing the entire set of image metadata as well as requesting specific metadata elements programmatically."
   ]
  },
  {
   "cell_type": "markdown",
   "metadata": {},
   "source": [
    "## Setup"
   ]
  },
  {
   "cell_type": "markdown",
   "metadata": {},
   "source": [
    "### Earth Engine setup"
   ]
  },
  {
   "cell_type": "code",
   "execution_count": null,
   "metadata": {},
   "outputs": [],
   "source": [
    "import ee\n",
    "ee.Authenticate()\n",
    "ee.Initialize()"
   ]
  },
  {
   "cell_type": "markdown",
   "metadata": {},
   "source": [
    "## Getting metadata"
   ]
  },
  {
   "cell_type": "code",
   "execution_count": null,
   "metadata": {},
   "outputs": [],
   "source": [
    "import pprint\n",
    "\n",
    "# Load an image.\n",
    "image = ee.Image('LANDSAT/LC08/C02/T1/LC08_044034_20140318')\n",
    "\n",
    "# All metadata.\n",
    "print('All metadata:')\n",
    "pprint.pprint(image.getInfo())\n",
    "\n",
    "# Get information about the bands as a list.\n",
    "band_names = image.bandNames()\n",
    "print('Band names:', band_names.getInfo())  # ee.List of band names\n",
    "\n",
    "# Get projection information from band 1.\n",
    "b1_proj = image.select('B1').projection()\n",
    "print('Band 1 projection:', b1_proj.getInfo())  # ee.Projection object\n",
    "\n",
    "# Get scale (in meters) information from band 1.\n",
    "b1_scale = image.select('B1').projection().nominalScale()\n",
    "print('Band 1 scale:', b1_scale.getInfo())  # ee.Number\n",
    "\n",
    "# Note that different bands can have different projections and scale.\n",
    "b8_scale = image.select('B8').projection().nominalScale()\n",
    "print('Band 8 scale:', b8_scale.getInfo())  # ee.Number\n",
    "\n",
    "# Get a list of all metadata properties.\n",
    "properties = image.propertyNames()\n",
    "print('Metadata properties:',\n",
    "      properties.getInfo())  # ee.List of metadata properties\n",
    "\n",
    "# Get a specific metadata property.\n",
    "cloudiness = image.get('CLOUD_COVER')\n",
    "print('CLOUD_COVER:', cloudiness.getInfo())  # ee.Number\n",
    "\n",
    "# Get version number (ingestion timestamp as microseconds since Unix epoch).\n",
    "version = image.get('system:version')\n",
    "print('Version:', version.getInfo())  # ee.Number\n",
    "print('Version (as ingestion date):',\n",
    "      ee.Date(ee.Number(version).divide(1000)).format().getInfo())  # ee.Date\n",
    "\n",
    "# Get the timestamp.\n",
    "ee_date = ee.Date(image.get('system:time_start'))\n",
    "print('Timestamp:', ee_date.getInfo())  # ee.Date\n",
    "\n",
    "# Date objects transferred to the client are milliseconds since UNIX epoch;\n",
    "# convert to human readable date with ee.Date.format().\n",
    "print('Datetime:', ee_date.format().getInfo())  # ISO standard date string"
   ]
  }
 ],
 "metadata": {
  "colab": {
   "name": "Image Information and Metadata"
  }
 },
 "nbformat": 4,
 "nbformat_minor": 2
}
