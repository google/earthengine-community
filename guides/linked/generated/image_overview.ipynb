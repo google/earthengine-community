{
 "cells": [
  {
   "cell_type": "code",
   "execution_count": null,
   "metadata": {},
   "outputs": [],
   "source": [
    "#@title Copyright 2021 The Earth Engine Community Authors { display-mode: \"form\" }\n",
    "#\n",
    "# Licensed under the Apache License, Version 2.0 (the \"License\");\n",
    "# you may not use this file except in compliance with the License.\n",
    "# You may obtain a copy of the License at\n",
    "#\n",
    "# https://www.apache.org/licenses/LICENSE-2.0\n",
    "#\n",
    "# Unless required by applicable law or agreed to in writing, software\n",
    "# distributed under the License is distributed on an \"AS IS\" BASIS,\n",
    "# WITHOUT WARRANTIES OR CONDITIONS OF ANY KIND, either express or implied.\n",
    "# See the License for the specific language governing permissions and\n",
    "# limitations under the License."
   ]
  },
  {
   "cell_type": "markdown",
   "metadata": {},
   "source": [
    "# Image Overview\n",
    "\n"
   ]
  },
  {
   "cell_type": "markdown",
   "metadata": {},
   "source": [
    "As mentioned in the [Get Started](https://developers.google.com/earth-engine/guides/getstarted#earth-engine-data-structures) doc, raster data are represented as `Image` objects in Earth Engine. Images are composed of one or more bands and each band has its own name, data type, scale, mask and projection. Each image has metadata stored as a set of properties."
   ]
  },
  {
   "cell_type": "markdown",
   "metadata": {},
   "source": [
    "## Setup"
   ]
  },
  {
   "cell_type": "markdown",
   "metadata": {},
   "source": [
    "### Earth Engine setup"
   ]
  },
  {
   "cell_type": "code",
   "execution_count": null,
   "metadata": {},
   "outputs": [],
   "source": [
    "import ee\n",
    "ee.Authenticate()\n",
    "ee.Initialize()"
   ]
  },
  {
   "cell_type": "markdown",
   "metadata": {},
   "source": [
    "### Folium setup (for interactive map display)"
   ]
  },
  {
   "cell_type": "code",
   "execution_count": null,
   "metadata": {},
   "outputs": [],
   "source": [
    "import folium\n",
    "\n",
    "\n",
    "def add_ee_layer(self, ee_image_object, vis_params, name):\n",
    "  map_id_dict = ee.Image(ee_image_object).getMapId(vis_params)\n",
    "  folium.raster_layers.TileLayer(\n",
    "      tiles=map_id_dict['tile_fetcher'].url_format,\n",
    "      attr='Map Data &copy; <a href=\"https://earthengine.google.com/\">Google Earth Engine</a>',\n",
    "      name=name,\n",
    "      overlay=True,\n",
    "      control=True\n",
    "  ).add_to(self)\n",
    "\n",
    "folium.Map.add_ee_layer = add_ee_layer"
   ]
  },
  {
   "cell_type": "markdown",
   "metadata": {},
   "source": [
    "##  `ee.Image` constructor \n",
    "\n",
    "Images can be loaded by pasting an Earth Engine asset ID into the `ee.Image` constructor. You can find image IDs in the [data catalog](https://developers.google.com/earth-engine/datasets). For example, to load [JAXA's ALOS DSM](https://developers.google.com/earth-engine/datasets/catalog/JAXA_ALOS_AW3D30_V3_2):"
   ]
  },
  {
   "cell_type": "code",
   "execution_count": null,
   "metadata": {},
   "outputs": [],
   "source": [
    "loaded_image = ee.Image('JAXA/ALOS/AW3D30/V2_2')"
   ]
  },
  {
   "cell_type": "markdown",
   "metadata": {},
   "source": [
    "You can also use a personal asset ID as shown in [this doc](https://developers.google.com/earth-engine/guides/asset_manager#importing-assets-to-your-script)."
   ]
  },
  {
   "cell_type": "markdown",
   "metadata": {},
   "source": [
    "##  Get an `ee.Image` from an `ee.ImageCollection`\n",
    "\n",
    "The standard way to get an image out of a collection is to filter the collection, with filters in order of decreasing specificity. For example, to get an image out of the [Sentinel-2 surface reflectance collection](https://developers.google.com/earth-engine/datasets/catalog/COPERNICUS_S2_SR):"
   ]
  },
  {
   "cell_type": "code",
   "execution_count": null,
   "metadata": {},
   "outputs": [],
   "source": [
    "first = (ee.ImageCollection('COPERNICUS/S2_SR')\n",
    "         .filterBounds(ee.Geometry.Point(-70.48, 43.3631))\n",
    "         .filterDate('2019-01-01', '2019-12-31')\n",
    "         .sort('CLOUDY_PIXEL_PERCENTAGE')\n",
    "         .first())\n",
    "\n",
    "# Define a map centered on southern Maine.\n",
    "map_s2 = folium.Map(location=[43.7516, -70.8155], zoom_start=11)\n",
    "\n",
    "# Add the image layer to the map and display it.\n",
    "map_s2.add_ee_layer(\n",
    "    first, {'bands': ['B4', 'B3', 'B2'], 'min': 0, 'max': 2000}, 'first')\n",
    "display(map_s2)"
   ]
  },
  {
   "cell_type": "markdown",
   "metadata": {},
   "source": [
    "Note that the sort is _after_ the filters. Avoid sorting the entire collection."
   ]
  },
  {
   "cell_type": "markdown",
   "metadata": {},
   "source": [
    "##  Images from Cloud GeoTIFFs \n",
    "\n",
    "You can use `ee.Image.loadGeoTIFF()` to load images from [Cloud Optimized GeoTIFFs](https://github.com/cogeotiff/cog-spec/blob/master/spec.md) in [Google Cloud Storage](https://cloud.google.com/storage). For example, the [public Landsat dataset](https://console.cloud.google.com/marketplace/details/usgs-public-data/landast) hosted in Google Cloud contains [this GeoTIFF](https://console.cloud.google.com/storage/browser/_details/gcp-public-data-landsat/LC08/01/001/002/LC08_L1GT_001002_20160817_20170322_01_T2/LC08_L1GT_001002_20160817_20170322_01_T2_B5.TIF), corresponding to band 5 from a Landsat 8 scene. You can load this image from Cloud Storage using `ee.Image.loadGeoTIFF()`:"
   ]
  },
  {
   "cell_type": "code",
   "execution_count": null,
   "metadata": {},
   "outputs": [],
   "source": [
    "uri = ('gs://gcp-public-data-landsat/LC08/01/001/002/'\n",
    "       'LC08_L1GT_001002_20160817_20170322_01_T2/'\n",
    "       'LC08_L1GT_001002_20160817_20170322_01_T2_B5.TIF')\n",
    "cloud_image = ee.Image.loadGeoTIFF(uri)\n",
    "print(cloud_image.getInfo())"
   ]
  },
  {
   "cell_type": "markdown",
   "metadata": {},
   "source": [
    "Note that if you want to reload a Cloud Optimized GeoTIFF that you [export from Earth Engine to Cloud Storage](https://developers.google.com/earth-engine/guides/exporting#to-cloud-storage), when you do the export, set `cloudOptimized` to **true** as described [here](https://developers.google.com/earth-engine/guides/exporting#configuration-parameters)."
   ]
  },
  {
   "cell_type": "markdown",
   "metadata": {},
   "source": [
    "##  Constant images \n",
    "\n",
    "In addition to loading images by ID, you can also create images from constants, lists or other suitable Earth Engine objects. The following illustrates methods for creating images, getting band subsets, and manipulating bands:"
   ]
  },
  {
   "cell_type": "code",
   "execution_count": null,
   "metadata": {},
   "outputs": [],
   "source": [
    "from pprint import pprint\n",
    "\n",
    "print('Create a constant image:')\n",
    "image_1 = ee.Image(1)\n",
    "pprint(image_1.getInfo())\n",
    "\n",
    "print('\\nConcatenate two images into one multi-band image:')\n",
    "image_2 = ee.Image(2)\n",
    "image_3 = ee.Image.cat([image_1, image_2])\n",
    "pprint(image_3.getInfo())\n",
    "\n",
    "print('\\nCreate a multi-band image from a list of constants:')\n",
    "multiband = ee.Image([1, 2, 3])\n",
    "pprint(multiband.getInfo())\n",
    "\n",
    "print('\\nSelect and (optionally) rename bands:')\n",
    "renamed = multiband.select(\n",
    "    ['constant', 'constant_1', 'constant_2'],  # old names\n",
    "    ['band1', 'band2', 'band3'])               # new names\n",
    "pprint(renamed.getInfo())\n",
    "\n",
    "print('\\nAdd bands to an image:')\n",
    "image_4 = image_3.addBands(ee.Image(42))\n",
    "pprint(image_4.getInfo())"
   ]
  }
 ],
 "metadata": {
  "colab": {
   "name": "Image Overview"
  }
 },
 "nbformat": 4,
 "nbformat_minor": 2
}
