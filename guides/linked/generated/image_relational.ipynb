{
 "cells": [
  {
   "cell_type": "code",
   "execution_count": null,
   "metadata": {},
   "outputs": [],
   "source": [
    "#@title Copyright 2021 The Earth Engine Community Authors { display-mode: \"form\" }\n",
    "#\n",
    "# Licensed under the Apache License, Version 2.0 (the \"License\");\n",
    "# you may not use this file except in compliance with the License.\n",
    "# You may obtain a copy of the License at\n",
    "#\n",
    "# https://www.apache.org/licenses/LICENSE-2.0\n",
    "#\n",
    "# Unless required by applicable law or agreed to in writing, software\n",
    "# distributed under the License is distributed on an \"AS IS\" BASIS,\n",
    "# WITHOUT WARRANTIES OR CONDITIONS OF ANY KIND, either express or implied.\n",
    "# See the License for the specific language governing permissions and\n",
    "# limitations under the License."
   ]
  },
  {
   "cell_type": "markdown",
   "metadata": {},
   "source": [
    "# Relational, Conditional, and Boolean Operations\n",
    "\n"
   ]
  },
  {
   "cell_type": "markdown",
   "metadata": {},
   "source": [
    "`ee.Image` objects have a set of relational, conditional, and boolean methods for constructing decision-making expressions. The results of these methods are useful for limiting analysis to certain pixels or regions through masking, developing classified maps, and value reassignment."
   ]
  },
  {
   "cell_type": "markdown",
   "metadata": {},
   "source": [
    "## Setup"
   ]
  },
  {
   "cell_type": "markdown",
   "metadata": {},
   "source": [
    "### Earth Engine setup"
   ]
  },
  {
   "cell_type": "code",
   "execution_count": null,
   "metadata": {},
   "outputs": [],
   "source": [
    "import ee\n",
    "ee.Authenticate()\n",
    "ee.Initialize()"
   ]
  },
  {
   "cell_type": "markdown",
   "metadata": {},
   "source": [
    "### Folium setup (for interactive map display)"
   ]
  },
  {
   "cell_type": "code",
   "execution_count": null,
   "metadata": {},
   "outputs": [],
   "source": [
    "import folium\n",
    "\n",
    "\n",
    "def add_ee_layer(self, ee_image_object, vis_params, name):\n",
    "  map_id_dict = ee.Image(ee_image_object).getMapId(vis_params)\n",
    "  folium.raster_layers.TileLayer(\n",
    "      tiles=map_id_dict['tile_fetcher'].url_format,\n",
    "      attr='Map Data &copy; <a href=\"https://earthengine.google.com/\">Google Earth Engine</a>',\n",
    "      name=name,\n",
    "      overlay=True,\n",
    "      control=True\n",
    "  ).add_to(self)\n",
    "\n",
    "folium.Map.add_ee_layer = add_ee_layer"
   ]
  },
  {
   "cell_type": "markdown",
   "metadata": {},
   "source": [
    "## Relational and boolean operators\n",
    "\n",
    "**Relational** methods include:\n",
    "\n",
    "`eq()`, `gt()`, `gte()`, `lt()`, and `lte()`\n",
    "\n",
    "**Boolean** methods include:\n",
    "\n",
    "`And()`,`Or()`, and `Not()`\n",
    "\n",
    "To perform per-pixel comparisons between images, use relational operators. To extract urbanized areas in an image, this example uses relational operators to threshold spectral indices, combining the thresholds with the _and_ operator:"
   ]
  },
  {
   "cell_type": "code",
   "execution_count": null,
   "metadata": {},
   "outputs": [],
   "source": [
    "# Load a Landsat 8 image.\n",
    "image = ee.Image('LANDSAT/LC08/C02/T1_TOA/LC08_044034_20140318')\n",
    "\n",
    "# Create NDVI and NDWI spectral indices.\n",
    "ndvi = image.normalizedDifference(['B5', 'B4'])\n",
    "ndwi = image.normalizedDifference(['B3', 'B5'])\n",
    "\n",
    "# Create a binary layer using logical operations.\n",
    "bare = ndvi.lt(0.2).And(ndwi.lt(0))\n",
    "\n",
    "# Define a map centered on San Francisco Bay.\n",
    "map_bare = folium.Map(location=[37.7726, -122.3578], zoom_start=12)\n",
    "\n",
    "# Add the masked image layer to the map and display it.\n",
    "map_bare.add_ee_layer(bare.selfMask(), None, 'bare')\n",
    "display(map_bare)"
   ]
  },
  {
   "cell_type": "markdown",
   "metadata": {},
   "source": [
    "As illustrated by this example, the output of relational and boolean operators is either true (1) or false (0). To mask the 0's, you can mask the resultant binary image with itself using `selfMask()`.\n",
    "\n",
    "The binary images that are returned by relational and boolean operators can be used with mathematical operators. This example creates zones of urbanization in a nighttime lights image using relational operators and `add()`:"
   ]
  },
  {
   "cell_type": "code",
   "execution_count": null,
   "metadata": {},
   "outputs": [],
   "source": [
    "# Load a 2012 nightlights image.\n",
    "nl_2012 = ee.Image('NOAA/DMSP-OLS/NIGHTTIME_LIGHTS/F182012')\n",
    "lights = nl_2012.select('stable_lights')\n",
    "\n",
    "# Define arbitrary thresholds on the 6-bit stable lights band.\n",
    "zones = lights.gt(30).add(lights.gt(55)).add(lights.gt(62))\n",
    "\n",
    "# Define a map centered on Paris, France.\n",
    "map_zones = folium.Map(location=[48.8683, 2.373], zoom_start=8)\n",
    "\n",
    "# Display the thresholded image as three distinct zones near Paris.\n",
    "palette = ['000000', '0000FF', '00FF00', 'FF0000']\n",
    "map_zones.add_ee_layer(\n",
    "    zones, {'min': 0, 'max': 3, 'palette': palette}, 'development zones')\n",
    "display(map_zones)"
   ]
  },
  {
   "cell_type": "markdown",
   "metadata": {},
   "source": [
    "## Conditional operators\n",
    "\n",
    "Note that the code in the previous example is equivalent to using a [ternary operator](http://en.wikipedia.org/wiki/%3F:) implemented by `expression()`:"
   ]
  },
  {
   "cell_type": "code",
   "execution_count": null,
   "metadata": {},
   "outputs": [],
   "source": [
    "# Create zones using an expression, display.\n",
    "zones_exp = nl_2012.expression(\"(b('stable_lights') > 62) ? 3 \"\n",
    "                               \": (b('stable_lights') > 55) ? 2 \"\n",
    "                               \": (b('stable_lights') > 30) ? 1 \"\n",
    "                               \": 0\")\n",
    "\n",
    "# Define a map centered on Paris, France.\n",
    "map_zones_exp = folium.Map(location=[48.8683, 2.373], zoom_start=8)\n",
    "\n",
    "# Add the image layer to the map and display it.\n",
    "map_zones_exp.add_ee_layer(\n",
    "    zones_exp, {'min': 0, 'max': 3, 'palette': palette}, 'zones exp')\n",
    "display(map_zones_exp)"
   ]
  },
  {
   "cell_type": "markdown",
   "metadata": {},
   "source": [
    "Observe that in the previous expression example, the band of interest is referenced using the `b()` function, rather than a dictionary of variable names. Learn more about image expressions on [this page](https://developers.google.com/earth-engine/guides/image_math#expressions). Using either mathematical operators or an expression will produce the same result.\n",
    "\n",
    "Another way to implement conditional operations on images is with the `where()` operator. Consider the need to replace masked pixels with some other data. In the following example, cloudy pixels are replaced by pixels from a cloud-free image using `where()`:"
   ]
  },
  {
   "cell_type": "code",
   "execution_count": null,
   "metadata": {},
   "outputs": [],
   "source": [
    "# Load a cloudy Sentinel-2 image.\n",
    "image = ee.Image(\n",
    "    'COPERNICUS/S2_SR/20210114T185729_20210114T185730_T10SEG')\n",
    "\n",
    "# Load another image to replace the cloudy pixels.\n",
    "replacement = ee.Image(\n",
    "    'COPERNICUS/S2_SR/20210109T185751_20210109T185931_T10SEG')\n",
    "\n",
    "# Set cloudy pixels (greater than 5% probability) to the other image.\n",
    "replaced = image.where(image.select('MSK_CLDPRB').gt(5), replacement)\n",
    "\n",
    "# Define a map centered on San Francisco Bay.\n",
    "map_replaced = folium.Map(location=[37.7349, -122.3769], zoom_start=11)\n",
    "\n",
    "# Display the images on a map.\n",
    "vis_params = {'bands': ['B4', 'B3', 'B2'], 'min': 0, 'max': 2000}\n",
    "map_replaced.add_ee_layer(image, vis_params, 'original image')\n",
    "map_replaced.add_ee_layer(replaced, vis_params, 'clouds replaced')\n",
    "display(map_replaced.add_child(folium.LayerControl()))"
   ]
  }
 ],
 "metadata": {
  "colab": {
   "name": "Relational, Conditional, and Boolean Operations"
  }
 },
 "nbformat": 4,
 "nbformat_minor": 2
}
