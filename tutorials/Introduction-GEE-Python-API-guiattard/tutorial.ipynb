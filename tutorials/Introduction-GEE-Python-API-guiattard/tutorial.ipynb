{
  "nbformat": 4,
  "nbformat_minor": 0,
  "metadata": {
    "colab": {
      "name": "Introduction-GEE-Python-API-guiattard",
      "provenance": [],
      "collapsed_sections": [],
      "include_colab_link": true
    },
    "kernelspec": {
      "name": "python3",
      "display_name": "Python 3"
    }
  },
  "cells": [
    {
      "cell_type": "markdown",
      "metadata": {
        "id": "view-in-github",
        "colab_type": "text"
      },
      "source": [
        "<a href=\"https://colab.research.google.com/github/guiattard/earthengine-community/blob/master/tutorials/Introduction-GEE-Python-API-guiattard/tutorial.ipynb\" target=\"_parent\"><img src=\"https://colab.research.google.com/assets/colab-badge.svg\" alt=\"Open In Colab\"/></a>"
      ]
    },
    {
      "cell_type": "code",
      "metadata": {
        "id": "8kdsGkYJXXKc"
      },
      "source": [
        "#@title Copyright 2020 The Earth Engine Community Authors { display-mode: \"form\" }\n",
        "#\n",
        "# Licensed under the Apache License, Version 2.0 (the \"License\");\n",
        "# you may not use this file except in compliance with the License.\n",
        "# You may obtain a copy of the License at\n",
        "#\n",
        "# https://www.apache.org/licenses/LICENSE-2.0\n",
        "#\n",
        "# Unless required by applicable law or agreed to in writing, software\n",
        "# distributed under the License is distributed on an \"AS IS\" BASIS,\n",
        "# WITHOUT WARRANTIES OR CONDITIONS OF ANY KIND, either express or implied.\n",
        "# See the License for the specific language governing permissions and\n",
        "# limitations under the License."
      ],
      "execution_count": null,
      "outputs": []
    },
    {
      "cell_type": "markdown",
      "metadata": {
        "id": "l18M9_r5XmAQ"
      },
      "source": [
        "# Introduction to the Google Earth Engine Python API: data catalog exploration, static and interactive mapping\n",
        "Author: guiattard\n",
        "\n",
        "Within the last decade, a huge amount of geospatial data, such as satellite data (e.g. land surface temperatures, vegetation) or the output of large scale, even global models (e.g. wind speed, groundwater recharge), have become freely available from multiple national agencies and universities (e.g. NASA, USGS, NOAA, and ESA). These geospactial data are used every day by scientists and engineers of all fields, to predict weather, prevent disasters, secure water supply or study the consequences of climate change. When using these geospatial data, things fast becomes tricky and the following questions arise:\n",
        "– What data is available and where can we find it ?\n",
        "– How can we access these data?\n",
        "– How can we manipulate these petabytes of data?\n",
        "\n",
        "In this article, an introduction to the Google Earth Engine Python API is presented. After some setups and some exploration of the Earth Engine Data Catalog, we’ll see how to handle geospatial datasets with pandas and make some plots with matplotlib. \n",
        "\n",
        "First, we’ll see how to get the timeseries of a variable on a region of interest. An application of this procedure will be done to extract Land Surface Temperature in an urban and a rural area near the city of Lyon (France) to illustrate the heat island effect. Secondly, we will focus on static mapping and a procedure to export the result in a geotiff file will be detailed. \n",
        "\n",
        "```\n",
        "# Ce texte est au format code\n",
        "```\n",
        "\n",
        "Finally, the folium library will be introduced to make interactive maps. In this last part, we’ll see how to include some GEE datasets as tiles layers of a folium map."
      ]
    },
    {
      "cell_type": "markdown",
      "metadata": {
        "id": "ZYiYem8wLSTX"
      },
      "source": [
        "### Exploration of the Earth Engine Data Catalog\n",
        "\n",
        "Have you ever thought that getting a meteorological dataset could be as easy as finding the nearest pizzeria? To convince you, go [here](https://developers.google.com/earth-engine/datasets/catalog) and play with the search bar and select the dataset you want to explore.\n",
        "\n",
        "Let's say that we need to know the elevation of a region, some soil properties (e.g. clay/sand/silt content) and some meteorological data (e.g. temperature, precipitation, evapotranspiration). Well, inside the Earth Engine Catalog we find:\n",
        "- global elevation with a resolution of 30m is available [here](https://developers.google.com/earth-engine/datasets/catalog/USGS_SRTMGL1_003),\n",
        "- [OpenLandMap datasets](https://developers.google.com/earth-engine/datasets/catalog/OpenLandMap_SOL_SOL_CLAY-WFRACTION_USDA-3A1A1A_M_v02) with some soil porperties with a resolution of 250m (e.g. clay, sand, and silt content) \n",
        "- temperature, precipitation and evapotranspiration datasets with different resolution. For example you can explore the [GRIDMET model data](https://developers.google.com/earth-engine/datasets/catalog/IDAHO_EPSCOR_GRIDMET) from the University of Idaho or for streight up satelite derived values look into the [MODIS Collections](https://developers.google.com/earth-engine/datasets/catalog/modis), etc.\n",
        "\n",
        "Of course the resolution, frequency, spatial and temporal extent as well as data source (e.g. satelite image, interpolated station data, or model output) vary from one dataset to another. Therefore, read the description carefully and make sure you know what kind of dataset you are selecting!\n"
      ]
    },
    {
      "cell_type": "markdown",
      "metadata": {
        "id": "U7i55vr_aKCB"
      },
      "source": [
        "### Run me first\n",
        "\n",
        "First of all, run the following cell to initialize the API. The output will contain instructions on how to grant this notebook access to Earth Engine using your account."
      ]
    },
    {
      "cell_type": "code",
      "metadata": {
        "id": "XeFsiSp2aDL6",
        "colab": {
          "base_uri": "https://localhost:8080/"
        },
        "outputId": "98000e9c-a1d6-487e-c82a-de916f0acce8"
      },
      "source": [
        "import ee\n",
        "\n",
        "# Trigger the authentication flow.\n",
        "ee.Authenticate()\n",
        "\n",
        "# Initialize the library.\n",
        "ee.Initialize()"
      ],
      "execution_count": null,
      "outputs": [
        {
          "output_type": "stream",
          "text": [
            "To authorize access needed by Earth Engine, open the following URL in a web browser and follow the instructions. If the web browser does not start automatically, please manually browse the URL below.\n",
            "\n",
            "    https://accounts.google.com/o/oauth2/auth?client_id=517222506229-vsmmajv00ul0bs7p89v5m89qs8eb9359.apps.googleusercontent.com&scope=https%3A%2F%2Fwww.googleapis.com%2Fauth%2Fearthengine+https%3A%2F%2Fwww.googleapis.com%2Fauth%2Fdevstorage.full_control&redirect_uri=urn%3Aietf%3Awg%3Aoauth%3A2.0%3Aoob&response_type=code&code_challenge=lDNPk0_wntv1rCVU7_ZkG_yYckoxFclUVCLY9hl_s_c&code_challenge_method=S256\n",
            "\n",
            "The authorization workflow will generate a code, which you should paste in the box below. \n",
            "Enter verification code: 4/1AY0e-g4i5L_cPXb25SUNEngHjF4VRTaGWcZyyePtqeMQ1ncY5WtIvpGi_Ms\n",
            "\n",
            "Successfully saved authorization token.\n"
          ],
          "name": "stdout"
        }
      ]
    },
    {
      "cell_type": "markdown",
      "metadata": {
        "id": "VOf_UnIcZKBJ"
      },
      "source": [
        "## Additional instructions\n",
        "\n",
        "Break up your tutorial into sections, one section per task, using text cells to describe each code block. Code should be split into small chunks that can be executed together and that can be easily understood by the reader.\n",
        "\n",
        "You can find useful examples of how to render images, charts, and interactive maps in the [Earth Engine Python API Colab Setup](\n",
        "https://colab.research.google.com/github/google/earthengine-api/blob/master/python/examples/ipynb/ee-api-colab-setup.ipynb) notebook.\n",
        "\n",
        "### Getting started\n",
        "\n",
        "Before starting work on your tutorial:\n",
        "\n",
        "1. If you haven't already, [Join GitHub](https://github.com/join).\n",
        "\n",
        "1. File a [Tutorial proposal](TODO) to discuss your idea with the maintainers.\n",
        "\n",
        "1. Once your proposal is approved, [fork the Earth Engine Community repository](https://github.com/google/earthengine-community/fork) to your personal account.\n",
        "\n",
        "1. In Colab, click \"File > Save a copy in GitHub\", granting Colab permission to write to your personal repo as necessary.\n",
        "\n",
        "  > Note: Pull requests are linked to the branch from which they were created. If you plan to have more than one tutorial out for review at a time, you will need to create a separate branch for each pull request ([instructions](https://help.github.com/en/github/collaborating-with-issues-and-pull-requests/creating-and-deleting-branches-within-your-repository)).\n",
        "\n",
        "1. In the \"Copy to GitHub\" dialog that appears, select the `master` branch of the fork created above.\n",
        "\n",
        "1. Enter the \"File path\" as follows:\n",
        "\n",
        "   ```\n",
        "   tutorials/your-tutorial-name/tutorial.ipynb\n",
        "   ```\n",
        "\n",
        "   Replace `your-tutorial-name` with a short filename, using only lowercase letters, numbers, and \"-\", preserving the \".ipynb\" extension.\n",
        "\n",
        "1. Write your tutorial directly in the notebook, leaving the copyright cell intact, and updating the title cell.\n",
        "\n",
        "### Adding images\n",
        "\n",
        "Images should be uploaded to your fork in GitHub under the `tutorials/your-tutorial-name` folder created above. Images must be directly under that directory; nested subdirectories are not allowed (e.g., \"`tutorials/your-tutorial-name/`~`img/`~`cool-viz.jpg`\").\n",
        "\n",
        "To refer to images uploaded in your tutorial, use Markdown's image syntax, refering to the filename of the image, without specifying its absolute path or full URL. For example:\n",
        "\n",
        "```md\n",
        "![alt text](my-awesome-viz.jpg)\n",
        "```\n",
        "\n",
        "### Submitting tutorial for review\n",
        "\n",
        "Once your tutorial is ready for review:\n",
        "\n",
        "1. Follow GitHub's instructions on [creating a pull request](https://help.github.com/en/github/collaborating-with-issues-and-pull-requests/creating-a-pull-request-from-a-fork) to request a review.\n",
        "\n",
        "1. Reviewer(s) will be assigned to review your notebook. Work with them to finalize its content. Once ready, the Earth Engine Community maintainers will approve, merge, and publish your tutorial in the [Earth Engine developers documentation](https://developers.google.com/earth-engine/tutorials/community)."
      ]
    }
  ]
}