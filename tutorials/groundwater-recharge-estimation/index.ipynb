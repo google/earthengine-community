{
  "cells": [
    {
      "cell_type": "code",
      "execution_count": null,
      "metadata": {
        "id": "8kdsGkYJXXKc"
      },
      "outputs": [],
      "source": [
        "# @title Copyright 2021 The Earth Engine Community Authors { display-mode: \"form\" }\n",
        "#\n",
        "# Licensed under the Apache License, Version 2.0 (the \"License\");\n",
        "# you may not use this file except in compliance with the License.\n",
        "# You may obtain a copy of the License at\n",
        "#\n",
        "# https://www.apache.org/licenses/LICENSE-2.0\n",
        "#\n",
        "# Unless required by applicable law or agreed to in writing, software\n",
        "# distributed under the License is distributed on an \"AS IS\" BASIS,\n",
        "# WITHOUT WARRANTIES OR CONDITIONS OF ANY KIND, either express or implied.\n",
        "# See the License for the specific language governing permissions and\n",
        "# limitations under the License."
      ]
    },
    {
      "cell_type": "markdown",
      "metadata": {
        "id": "l18M9_r5XmAQ"
      },
      "source": [
        "# Implementation of the Thornthwaite-Mather procedure to map groundwater recharge\n",
        "Author: guiattard\n",
        "\n",
        "Groundwater recharge represents the amount of water coming from precipitation reaching the groundwater table. Its determination helps to better understand the available/renewable groundwater in watersheds and the shape of groundwater flow systems.\n",
        "\n",
        "One of the simplest methods to estimate groundwater recharge is the Thornthwaite-Mather procedure (Steenhuis and Van Der Molen, 1986). This procedure was published by Thornthwaite and Mather (1955, 1957). The idea of this procedure is to calculate the water balance in the root zone of the soil where water can be (1) evaporated into the atmosphere under the effect of heat, (2) transpired by vegetation, (3) stored by the soil, and eventually (4) infiltrated when stored water exceeds the field capacity.\n",
        "\n",
        "This procedures relies on several parameters and variables described as follows:\n",
        "- information about soil texture (e.g. sand and clay content) to describe the hydraulic properties of the soil and its capacity to store/infiltrate,\n",
        "- meteorological records: precipitation and potential evapotranspiration.\n",
        "\n",
        "Of course groundwater recharge can be influenced by many other factors such as the slope of the terrain, the snow cover, the variability of the crop/land cover and the irrigation. In the following these aspects are not taken into account.\n",
        "\n",
        "In the first part of the tutorial, the Earth Engine python API will be initialized, some useful libraries will be imported, and the location/period of interest will be defined.\n",
        "\n",
        "In the second part, [OpenLandMap datasets](https://developers.google.com/earth-engine/datasets/tags/opengeohub) related to soil properties will be explored. The wilting point and field capacity of the soil will be calculated by applying some mathematical expressions to multiple images.\n",
        "\n",
        "In the third part, [evapotranspiration](https://developers.google.com/earth-engine/datasets/catalog/MODIS_061_MOD16A2GF) and [precipitation](https://developers.google.com/earth-engine/datasets/catalog/UCSB-CHG_CHIRPS_DAILY) datasets will be imported. A function will be defined to resample the time resolution of an `ee.ImageCollection` and to homogenize time index of both datasets. Both datasets will then be combined into one.\n",
        "\n",
        "In the fourth and final part, the Thornthwaite-Mather(TM) procedure will be implemented by iterating over the meteorological `ee.ImageCollection`. Finally, a comparison between groundwater recharge in two places will be described and the resulting mean annual groundwater recharge will be displayed over France."
      ]
    },
    {
      "cell_type": "markdown",
      "metadata": {
        "id": "U7i55vr_aKCB"
      },
      "source": [
        "### Run me first\n",
        "#### Earth Engine API\n",
        "\n",
        "First of all, run the following cell to initialize the API. The output will contain instructions on how to grant this notebook access to Earth Engine using your account."
      ]
    },
    {
      "cell_type": "code",
      "execution_count": null,
      "metadata": {
        "id": "XeFsiSp2aDL6"
      },
      "outputs": [],
      "source": [
        "import ee\n",
        "\n",
        "# Trigger the authentication flow.\n",
        "ee.Authenticate()\n",
        "\n",
        "# Initialize the library.\n",
        "ee.Initialize(project='my-project')"
      ]
    },
    {
      "cell_type": "markdown",
      "metadata": {
        "id": "-BpAxTgB_Jf3"
      },
      "source": [
        "#### Other libraries\n",
        "Import other libraries/modules used in this notebook.\n",
        "\n",
        "- [**pandas**](https://pandas.pydata.org/): data analysis (including the [DataFrame](https://pandas.pydata.org/pandas-docs/stable/reference/api/pandas.DataFrame.html) data structure)\n",
        "- [**matplotlib**](https://matplotlib.org/): data visualization library\n",
        "- [**numpy**](https://numpy.org/): array-processing package\n",
        "- [**folium**](https://python-visualization.github.io/folium/): interactive web map\n",
        "- [**pprint**](https://docs.python.org/3/library/pprint.html): a pretty printer\n",
        "- [**branca.colormap**](https://python-visualization.github.io/branca/colormap.html):  utility module for dealing with colormaps.\n"
      ]
    },
    {
      "cell_type": "code",
      "execution_count": null,
      "metadata": {
        "id": "PPPRzdR8-9nJ"
      },
      "outputs": [],
      "source": [
        "import pandas as pd\n",
        "import matplotlib.pyplot as plt\n",
        "import numpy as np\n",
        "import folium\n",
        "import pprint\n",
        "import branca.colormap as cm"
      ]
    },
    {
      "cell_type": "markdown",
      "metadata": {
        "id": "ZXm8u4ZV_-km"
      },
      "source": [
        "#### Some input parameters\n",
        "We additionally define some parameters used to evaluate the results of our implementation. Particularly:\n",
        "- the period of interest to get meteorological records,\n",
        "- a location of interest based on longitude and latitude coordinates. In the following, the point of interest is located in a productive agricultural region which is about 30 kilometers outside of the city of Lyon (France). This point is used to evaluate and illustrate the progress of the described procedure."
      ]
    },
    {
      "cell_type": "code",
      "execution_count": null,
      "metadata": {
        "id": "DrJBJjd2_95v"
      },
      "outputs": [],
      "source": [
        "# Initial date of interest (inclusive).\n",
        "i_date = \"2015-01-01\"\n",
        "\n",
        "# Final date of interest (exclusive).\n",
        "f_date = \"2020-01-01\"\n",
        "\n",
        "# Define the location of interest with a point.\n",
        "lon = 5.145041\n",
        "lat = 45.772439\n",
        "poi = ee.Geometry.Point(lon, lat)\n",
        "\n",
        "# A nominal scale in meters of the projection to work in [in meters].\n",
        "scale = 1000"
      ]
    },
    {
      "cell_type": "markdown",
      "metadata": {
        "id": "VfnygBwyFzCP"
      },
      "source": [
        "### From soil texture to hydraulic properties"
      ]
    },
    {
      "cell_type": "markdown",
      "metadata": {
        "id": "B6T9EctGA40J"
      },
      "source": [
        "\n",
        "#### Definitions\n",
        "Two hydraulic properties of soil are commonly used in the TM procedure:\n",
        "- the *wilting point* represents the point below what water cannot be extracted by plant roots,\n",
        "- the *field capacity* represents the point after which water cannot be stored by soil any more. After that point, gravitational forces become too high and water starts to infiltrate the lower levels.\n",
        "\n",
        "Some equations given by Saxton \u0026 Rawls (2006) are used to link both parameters to the texture of the soil. The calculation of water content at wilting point $θ_{WP}$ can be done as follows:\n",
        "\n",
        "$$\\theta_{WP}= \\theta_{1500t} + (0.14 \\theta_{1500t} - 0.002)$$ with:\n",
        "\n",
        "$$\\theta_{1500t} = -0.024 S + 0.487 C + 0.006 OM + 0.005(S \\times OM) - 0.013 (C \\times OM) + 0.068 (S \\times C) + 0.031$$\n",
        "\n",
        "where:\n",
        "- $S$: represents the sand content of the soil (mass percentage),\n",
        "- $C$: represents the clay content of the soil (mass percentage),\n",
        "- $OM$: represents the organic matter content of the soil (mass percentage).\n",
        "\n",
        "Similarly, the calculation of the water content at field capacity $θ_{FC}$ can be done as follows:\n",
        "\n",
        "$$\\theta_{FC} = \\theta_{33t} + (1.283 \\theta_{33t}^{2} - 0.374 \\theta_{33t}-0.15)$$ with:\n",
        "\n",
        "$$\\theta_{33t} = -0.251 S + 0.195 C + 0.011 OM + 0.006 (S \\times OM) - 0.027 (C \\times OM) + 0.452 (S \\times C) + 0.299$$\n"
      ]
    },
    {
      "cell_type": "markdown",
      "metadata": {
        "id": "rUr7MdL3F8CW"
      },
      "source": [
        "#### Determination of soil texture and properties\n",
        "In the following, [OpenLandMap datasets](https://developers.google.com/earth-engine/datasets/tags/opengeohub) are used to describe clay, sand and organic carbon content of soil.\n",
        "A global dataset of soil water content at the field capacity with a resolution of 250 m has been made available by Hengl \u0026 Gupta (2019). However, up to now, there is no dataset dedicated to the water content of soil at the wilting point. Consequently, in the following, both parameters will be determined considering the previous equations and using the global datasets giving the sand, clay and organic matter contents of the soil. According to the [description](https://developers.google.com/earth-engine/datasets/catalog/OpenLandMap_SOL_SOL_CLAY-WFRACTION_USDA-3A1A1A_M_v02#description), these datasets are based on machine learning predictions from global compilation of soil profiles and samples. Processing steps are described in detail [here](https://gitlab.com/openlandmap/global-layers/tree/master/soil). The information (clay, sand content, etc.) is given at 6 standard depths (0, 10, 30, 60, 100 and 200 cm) at 250 m resolution. \n",
        "\n",
        "These standard depths and associated bands are defined into a list as follows:"
      ]
    },
    {
      "cell_type": "code",
      "execution_count": null,
      "metadata": {
        "id": "xdaW306oC_6q"
      },
      "outputs": [],
      "source": [
        "# Soil depths [in cm] where we have data.\n",
        "olm_depths = [0, 10, 30, 60, 100, 200]\n",
        "\n",
        "# Names of bands associated with reference depths.\n",
        "olm_bands = [\"b\" + str(sd) for sd in olm_depths]"
      ]
    },
    {
      "cell_type": "markdown",
      "metadata": {
        "id": "boAHT1GjDDj4"
      },
      "source": [
        "We now define a function to get the `ee.Image` associated to the parameter we are interested in (e.g. sand, clay, organic carbon content, etc.)."
      ]
    },
    {
      "cell_type": "code",
      "execution_count": null,
      "metadata": {
        "id": "CKlnxs9qDDEo"
      },
      "outputs": [],
      "source": [
        "def get_soil_prop(param):\n",
        "    \"\"\"\n",
        "    This function returns soil properties image\n",
        "    param (str): must be one of:\n",
        "        \"sand\"     - Sand fraction\n",
        "        \"clay\"     - Clay fraction\n",
        "        \"orgc\"     - Organic Carbon fraction\n",
        "    \"\"\"\n",
        "    if param == \"sand\":  # Sand fraction [%w]\n",
        "        snippet = \"OpenLandMap/SOL/SOL_SAND-WFRACTION_USDA-3A1A1A_M/v02\"\n",
        "        # Define the scale factor in accordance with the dataset description.\n",
        "        scale_factor = 1 * 0.01\n",
        "\n",
        "    elif param == \"clay\":  # Clay fraction [%w]\n",
        "        snippet = \"OpenLandMap/SOL/SOL_CLAY-WFRACTION_USDA-3A1A1A_M/v02\"\n",
        "        # Define the scale factor in accordance with the dataset description.\n",
        "        scale_factor = 1 * 0.01\n",
        "\n",
        "    elif param == \"orgc\":  # Organic Carbon fraction [g/kg]\n",
        "        snippet = \"OpenLandMap/SOL/SOL_ORGANIC-CARBON_USDA-6A1C_M/v02\"\n",
        "        # Define the scale factor in accordance with the dataset description.\n",
        "        scale_factor = 5 * 0.001  # to get kg/kg\n",
        "    else:\n",
        "        return print(\"error\")\n",
        "\n",
        "    # Apply the scale factor to the ee.Image.\n",
        "    dataset = ee.Image(snippet).multiply(scale_factor)\n",
        "\n",
        "    return dataset"
      ]
    },
    {
      "cell_type": "markdown",
      "metadata": {
        "id": "_yu_JUnJDg8e"
      },
      "source": [
        "We apply this function to import soil properties:"
      ]
    },
    {
      "cell_type": "code",
      "execution_count": null,
      "metadata": {
        "id": "n6n7wMUTDsaa"
      },
      "outputs": [],
      "source": [
        "# Image associated with the sand content.\n",
        "sand = get_soil_prop(\"sand\")\n",
        "\n",
        "# Image associated with the clay content.\n",
        "clay = get_soil_prop(\"clay\")\n",
        "\n",
        "# Image associated with the organic carbon content.\n",
        "orgc = get_soil_prop(\"orgc\")"
      ]
    },
    {
      "cell_type": "markdown",
      "metadata": {
        "id": "6Te0H7KTD8MP"
      },
      "source": [
        "To illustrate the result, we define a new method for handing Earth Engine tiles and using it to display the clay content of the soil at a given reference depth, to a Leaflet map."
      ]
    },
    {
      "cell_type": "code",
      "execution_count": null,
      "metadata": {
        "id": "pebngsPoD4_w"
      },
      "outputs": [],
      "source": [
        "def add_ee_layer(self, ee_image_object, vis_params, name):\n",
        "    \"\"\"Adds a method for displaying Earth Engine image tiles to folium map.\"\"\"\n",
        "    map_id_dict = ee.Image(ee_image_object).getMapId(vis_params)\n",
        "    folium.raster_layers.TileLayer(\n",
        "        tiles=map_id_dict[\"tile_fetcher\"].url_format,\n",
        "        attr=\"Map Data \u0026copy; \u003ca href='https://earthengine.google.com/'\u003eGoogle Earth Engine\u003c/a\u003e\",\n",
        "        name=name,\n",
        "        overlay=True,\n",
        "        control=True,\n",
        "    ).add_to(self)\n",
        "\n",
        "\n",
        "# Add Earth Engine drawing method to folium.\n",
        "folium.Map.add_ee_layer = add_ee_layer\n",
        "\n",
        "my_map = folium.Map(location=[lat, lon], zoom_start=3)\n",
        "\n",
        "# Set visualization parameters.\n",
        "vis_params = {\n",
        "    \"bands\": [\"b0\"],\n",
        "    \"min\": 0.01,\n",
        "    \"max\": 1,\n",
        "    \"opacity\": 1,\n",
        "    \"palette\": [\"white\", \"#464646\"],\n",
        "}\n",
        "\n",
        "# Add the sand content data to the map object.\n",
        "my_map.add_ee_layer(sand, vis_params, \"Sand Content\")\n",
        "\n",
        "# Add a marker at the location of interest.\n",
        "folium.Marker([lat, lon], popup=\"point of interest\").add_to(my_map)\n",
        "\n",
        "# Add a layer control panel to the map.\n",
        "my_map.add_child(folium.LayerControl())\n",
        "\n",
        "# Display the map.\n",
        "display(my_map)"
      ]
    },
    {
      "cell_type": "markdown",
      "metadata": {
        "id": "cQQhTGBQELax"
      },
      "source": [
        "Now, a function is defined to get soil properties at a given location. The following function returns a dictionary indicating the value of the parameter of interest for each standard depth (in centimeter). This function uses the [`ee.Image.sample`](https://developers.google.com/earth-engine/apidocs/ee-image-sample) method to evaluate the `ee.Image` properties on the region of interest. The result is then transferred client-side using the [`ee.Image.getInfo`](https://developers.google.com/earth-engine/apidocs/ee-image-getinfo) method. \n",
        "\n",
        "In the example below, we are asking for the sand content."
      ]
    },
    {
      "cell_type": "code",
      "execution_count": null,
      "metadata": {
        "id": "Blq2rNG2ESIn"
      },
      "outputs": [],
      "source": [
        "def local_profile(dataset, poi, buffer):\n",
        "    # Get properties at the location of interest and transfer to client-side.\n",
        "    prop = dataset.sample(poi, buffer).select(olm_bands).getInfo()\n",
        "\n",
        "    # Selection of the features/properties of interest.\n",
        "    profile = prop[\"features\"][0][\"properties\"]\n",
        "\n",
        "    # Re-shaping of the dict.\n",
        "    profile = {key: round(val, 3) for key, val in profile.items()}\n",
        "\n",
        "    return profile\n",
        "\n",
        "\n",
        "# Apply the function to get the sand profile.\n",
        "profile_sand = local_profile(sand, poi, scale)\n",
        "\n",
        "# Print the result.\n",
        "print(\"Sand content profile at the location of interest:\\n\", profile_sand)"
      ]
    },
    {
      "cell_type": "markdown",
      "metadata": {
        "id": "gh6yCnb7EgFH"
      },
      "source": [
        "We now apply the function to plot the profile of the soil regarding sand and clay and organic carbon content at the location of interest:"
      ]
    },
    {
      "cell_type": "code",
      "execution_count": null,
      "metadata": {
        "id": "4uB2QEIiEfuQ"
      },
      "outputs": [],
      "source": [
        "# Clay and organic content profiles.\n",
        "profile_clay = local_profile(clay, poi, scale)\n",
        "profile_orgc = local_profile(orgc, poi, scale)\n",
        "\n",
        "# Data visualization in the form of a bar plot.\n",
        "fig, ax = plt.subplots(figsize=(15, 6))\n",
        "ax.axes.get_yaxis().set_visible(False)\n",
        "\n",
        "# Definition of label locations.\n",
        "x = np.arange(len(olm_bands))\n",
        "\n",
        "# Definition of the bar width.\n",
        "width = 0.25\n",
        "\n",
        "# Bar plot representing the sand content profile.\n",
        "rect1 = ax.bar(\n",
        "    x - width,\n",
        "    [round(100 * profile_sand[b], 2) for b in olm_bands],\n",
        "    width,\n",
        "    label=\"Sand\",\n",
        "    color=\"#ecebbd\",\n",
        ")\n",
        "\n",
        "# Bar plot representing the clay content profile.\n",
        "rect2 = ax.bar(\n",
        "    x,\n",
        "    [round(100 * profile_clay[b], 2) for b in olm_bands],\n",
        "    width,\n",
        "    label=\"Clay\",\n",
        "    color=\"#6f6c5d\",\n",
        ")\n",
        "\n",
        "# Bar plot representing the organic carbon content profile.\n",
        "rect3 = ax.bar(\n",
        "    x + width,\n",
        "    [round(100 * profile_orgc[b], 2) for b in olm_bands],\n",
        "    width,\n",
        "    label=\"Organic Carbon\",\n",
        "    color=\"black\",\n",
        "    alpha=0.75,\n",
        ")\n",
        "\n",
        "# Definition of a function to attach a label to each bar.\n",
        "def autolabel_soil_prop(rects):\n",
        "    \"\"\"Attach a text label above each bar in *rects*, displaying its height.\"\"\"\n",
        "    for rect in rects:\n",
        "        height = rect.get_height()\n",
        "        ax.annotate(\n",
        "            \"{}\".format(height) + \"%\",\n",
        "            xy=(rect.get_x() + rect.get_width() / 2, height),\n",
        "            xytext=(0, 3),  # 3 points vertical offset.\n",
        "            textcoords=\"offset points\",\n",
        "            ha=\"center\",\n",
        "            va=\"bottom\",\n",
        "            fontsize=10,\n",
        "        )\n",
        "\n",
        "\n",
        "# Application of the function to each barplot.\n",
        "autolabel_soil_prop(rect1)\n",
        "autolabel_soil_prop(rect2)\n",
        "autolabel_soil_prop(rect3)\n",
        "\n",
        "# Title of the plot.\n",
        "ax.set_title(\"Properties of the soil at different depths (mass content)\", fontsize=14)\n",
        "\n",
        "# Properties of x/y labels and ticks.\n",
        "ax.set_xticks(x)\n",
        "x_labels = [str(d) + \" cm\" for d in olm_depths]\n",
        "ax.set_xticklabels(x_labels, rotation=45, fontsize=10)\n",
        "\n",
        "ax.spines[\"left\"].set_visible(False)\n",
        "ax.spines[\"right\"].set_visible(False)\n",
        "ax.spines[\"top\"].set_visible(False)\n",
        "\n",
        "# Shrink current axis's height by 10% on the bottom.\n",
        "box = ax.get_position()\n",
        "ax.set_position([box.x0, box.y0 + box.height * 0.1, box.width, box.height * 0.9])\n",
        "\n",
        "# Add a legend below current axis.\n",
        "ax.legend(\n",
        "    loc=\"upper center\", bbox_to_anchor=(0.5, -0.15), fancybox=True, shadow=True, ncol=3\n",
        ")\n",
        "\n",
        "plt.show()"
      ]
    },
    {
      "cell_type": "markdown",
      "metadata": {
        "id": "e0RTRGumFDBp"
      },
      "source": [
        "#### Expression to calculate hydraulic properties\n",
        "\n",
        "Now that soil properties are described, the water content at the field capacity and at the wilting point can be calculated according to the equation defined at the beginning of this section. Please note that in the equation of Saxton \u0026 Rawls (2006), the wilting point and field capacity are calculated using the Organic Matter content ($OM$) and not the Organic Carbon content ($OC$). In the following, we convert $OC$ into $OM$ using the corrective factor known as the [Van Bemmelen factor](https://inspire.ec.europa.eu/codelist/SoilDerivedObjectParameterNameValue/organicCarbonContent):\n",
        "\n",
        "$$0M = 1.724 \\times OC$$\n",
        "\n",
        "Several operators are available to perform basic [mathematical operations](https://developers.google.com/earth-engine/guides/image_math) on image bands: `add()`, `subtract()`, `multiply()` and `divide()`. Here, we multiply the organic content by the Van Bemmelen factor. It is done using the `ee.Image.multiply` method on the organic carbon content `ee.Image`."
      ]
    },
    {
      "cell_type": "code",
      "execution_count": null,
      "metadata": {
        "id": "OCe7vmldFl25"
      },
      "outputs": [],
      "source": [
        "# Conversion of organic carbon content into organic matter content.\n",
        "orgm = orgc.multiply(1.724)\n",
        "\n",
        "# Organic matter content profile.\n",
        "profile_orgm = local_profile(orgm, poi, scale)\n",
        "print(\"Organic Matter content profile at the location of interest:\\n\", profile_orgm)"
      ]
    },
    {
      "cell_type": "markdown",
      "metadata": {
        "id": "zi-E44hCFuRf"
      },
      "source": [
        "When the mathematical operation to apply to the `ee.Image` becomes too complex, the [`ee.Image.expression`](https://developers.google.com/earth-engine/apidocs/ee-image-expression) is a good alternative. We use it in the following code block since the calculation of wilting point and field capacity relies on multiple parameters and images. This method takes two arguments:\n",
        "- a `string` formalizing the arithmetic expression we want to evaluate,\n",
        "- a `dict` associating images to each parameter of the arithmetic expression.\n",
        "\n",
        "The mathematical expression is applied as follows to determine wilting point and field capacity:"
      ]
    },
    {
      "cell_type": "code",
      "execution_count": null,
      "metadata": {
        "id": "St1g8ujhGCf-"
      },
      "outputs": [],
      "source": [
        "# Initialization of two constant images for wilting point and field capacity.\n",
        "wilting_point = ee.Image(0)\n",
        "field_capacity = ee.Image(0)\n",
        "\n",
        "# Calculation for each standard depth using a loop.\n",
        "for key in olm_bands:\n",
        "    # Getting sand, clay and organic matter at the appropriate depth.\n",
        "    si = sand.select(key)\n",
        "    ci = clay.select(key)\n",
        "    oi = orgm.select(key)\n",
        "\n",
        "    # Calculation of the wilting point.\n",
        "    # The theta_1500t parameter is needed for the given depth.\n",
        "    theta_1500ti = (\n",
        "        ee.Image(0)\n",
        "        .expression(\n",
        "            \"-0.024 * S + 0.487 * C + 0.006 * OM + 0.005 * (S * OM)\\\n",
        "        - 0.013 * (C * OM) + 0.068 * (S * C) + 0.031\",\n",
        "            {\n",
        "                \"S\": si,\n",
        "                \"C\": ci,\n",
        "                \"OM\": oi,\n",
        "            },\n",
        "        )\n",
        "        .rename(\"T1500ti\")\n",
        "    )\n",
        "\n",
        "    # Final expression for the wilting point.\n",
        "    wpi = theta_1500ti.expression(\n",
        "        \"T1500ti + ( 0.14 * T1500ti - 0.002)\", {\"T1500ti\": theta_1500ti}\n",
        "    ).rename(\"wpi\")\n",
        "\n",
        "    # Add as a new band of the global wilting point ee.Image.\n",
        "    # Do not forget to cast the type with float().\n",
        "    wilting_point = wilting_point.addBands(wpi.rename(key).float())\n",
        "\n",
        "    # Same process for the calculation of the field capacity.\n",
        "    # The parameter theta_33t is needed for the given depth.\n",
        "    theta_33ti = (\n",
        "        ee.Image(0)\n",
        "        .expression(\n",
        "            \"-0.251 * S + 0.195 * C + 0.011 * OM +\\\n",
        "        0.006 * (S * OM) - 0.027 * (C * OM)+\\\n",
        "        0.452 * (S * C) + 0.299\",\n",
        "            {\n",
        "                \"S\": si,\n",
        "                \"C\": ci,\n",
        "                \"OM\": oi,\n",
        "            },\n",
        "        )\n",
        "        .rename(\"T33ti\")\n",
        "    )\n",
        "\n",
        "    # Final expression for the field capacity of the soil.\n",
        "    fci = theta_33ti.expression(\n",
        "        \"T33ti + (1.283 * T33ti * T33ti - 0.374 * T33ti - 0.015)\",\n",
        "        {\"T33ti\": theta_33ti.select(\"T33ti\")},\n",
        "    )\n",
        "\n",
        "    # Add a new band of the global field capacity ee.Image.\n",
        "    field_capacity = field_capacity.addBands(fci.rename(key).float())"
      ]
    },
    {
      "cell_type": "markdown",
      "metadata": {
        "id": "FcZd2qHnGiBo"
      },
      "source": [
        "Let's see the result around our location of interest:"
      ]
    },
    {
      "cell_type": "code",
      "execution_count": null,
      "metadata": {
        "id": "va8SaEr9Gizh"
      },
      "outputs": [],
      "source": [
        "profile_wp = local_profile(wilting_point, poi, scale)\n",
        "profile_fc = local_profile(field_capacity, poi, scale)\n",
        "\n",
        "print(\"Wilting point profile:\\n\", profile_wp)\n",
        "print(\"Field capacity profile:\\n\", profile_fc)"
      ]
    },
    {
      "cell_type": "markdown",
      "metadata": {
        "id": "b8MbWJU-B5Mo"
      },
      "source": [
        "The result is displayed using barplots as follows:"
      ]
    },
    {
      "cell_type": "code",
      "execution_count": null,
      "metadata": {
        "id": "Zsqs-0oyG1nx"
      },
      "outputs": [],
      "source": [
        "fig, ax = plt.subplots(figsize=(15, 6))\n",
        "ax.axes.get_yaxis().set_visible(False)\n",
        "\n",
        "# Definition of the label locations.\n",
        "x = np.arange(len(olm_bands))\n",
        "\n",
        "# Width of the bar of the barplot.\n",
        "width = 0.25\n",
        "\n",
        "# Barplot associated with the water content at the wilting point.\n",
        "rect1 = ax.bar(\n",
        "    x - width / 2,\n",
        "    [round(profile_wp[b] * 100, 2) for b in olm_bands],\n",
        "    width,\n",
        "    label=\"Water content at wilting point\",\n",
        "    color=\"red\",\n",
        "    alpha=0.5,\n",
        ")\n",
        "\n",
        "# Barplot associated with the water content at the field capacity.\n",
        "rect2 = ax.bar(\n",
        "    x + width / 2,\n",
        "    [round(profile_fc[b] * 100, 2) for b in olm_bands],\n",
        "    width,\n",
        "    label=\"Water content at field capacity\",\n",
        "    color=\"blue\",\n",
        "    alpha=0.5,\n",
        ")\n",
        "\n",
        "# Add Labels on top of bars.\n",
        "autolabel_soil_prop(rect1)\n",
        "autolabel_soil_prop(rect2)\n",
        "\n",
        "# Title of the plot.\n",
        "ax.set_title(\"Hydraulic properties of the soil at different depths\", fontsize=14)\n",
        "\n",
        "# Properties of x/y labels and ticks.\n",
        "ax.set_xticks(x)\n",
        "x_labels = [str(d) + \" cm\" for d in olm_depths]\n",
        "ax.set_xticklabels(x_labels, rotation=45, fontsize=10)\n",
        "\n",
        "ax.spines[\"left\"].set_visible(False)\n",
        "ax.spines[\"right\"].set_visible(False)\n",
        "ax.spines[\"top\"].set_visible(False)\n",
        "\n",
        "# Shrink current axis's height by 10% on the bottom.\n",
        "box = ax.get_position()\n",
        "ax.set_position([box.x0, box.y0 + box.height * 0.1, box.width, box.height * 0.9])\n",
        "\n",
        "# Put a legend below current axis.\n",
        "ax.legend(\n",
        "    loc=\"upper center\", bbox_to_anchor=(0.5, -0.15), fancybox=True, shadow=True, ncol=2\n",
        ")\n",
        "\n",
        "plt.show()"
      ]
    },
    {
      "cell_type": "markdown",
      "metadata": {
        "id": "JVezSsYkHG4h"
      },
      "source": [
        "### Getting meteorological datasets\n"
      ]
    },
    {
      "cell_type": "markdown",
      "metadata": {
        "id": "fc6KlXE9GR3J"
      },
      "source": [
        "#### Datasets exploration\n",
        "\n",
        "The meteorological data used in our implementation of the TM procedure relies on the following datasets:\n",
        "- [Climate Hazards Group InfraRed Precipitation](https://developers.google.com/earth-engine/datasets/catalog/UCSB-CHG_CHIRPS_DAILY) with Station data (CHIRPS) gives precipitations on a daily basis (resolution of 5 km),\n",
        "- [MODIS Terra Net](https://developers.google.com/earth-engine/datasets/catalog/MODIS_061_MOD16A2GF) gives evapotranspiration on a 8-days basis (resolution of 500 m).\n",
        "\n",
        "Both datasets are imported as follows, specifying the bands of interest using [`.select()`](https://developers.google.com/earth-engine/apidocs/ee-imagecollection-select) and the period of interest using [`.filterDate()`](https://developers.google.com/earth-engine/apidocs/ee-imagecollection-filterdate)."
      ]
    },
    {
      "cell_type": "code",
      "execution_count": null,
      "metadata": {
        "id": "JeINenBXJPSa"
      },
      "outputs": [],
      "source": [
        "# Import precipitation.\n",
        "pr = (\n",
        "    ee.ImageCollection(\"UCSB-CHG/CHIRPS/DAILY\")\n",
        "    .select(\"precipitation\")\n",
        "    .filterDate(i_date, f_date)\n",
        ")\n",
        "\n",
        "# Import potential evaporation PET and its quality indicator ET_QC.\n",
        "pet = (\n",
        "    ee.ImageCollection(\"MODIS/061/MOD16A2GF\")\n",
        "    .select([\"PET\", \"ET_QC\"])\n",
        "    .filterDate(i_date, f_date)\n",
        ")"
      ]
    },
    {
      "cell_type": "markdown",
      "metadata": {
        "id": "iJLXDfKkl_c6"
      },
      "source": [
        "Now we can have a closer look around our location of interest. To evaluate the properties of an `ee.ImageCollection`, the [`ee.ImageCollection.getRegion`](https://developers.google.com/earth-engine/apidocs/ee-imagecollection-getregion) method is used and combined with [`ee.ImageCollection.getInfo`](https://developers.google.com/earth-engine/apidocs/ee-imagecollection-getinfo) method for a client-side visualization."
      ]
    },
    {
      "cell_type": "code",
      "execution_count": null,
      "metadata": {
        "id": "mEwu6X1GmBnx"
      },
      "outputs": [],
      "source": [
        "# Evaluate local precipitation conditions.\n",
        "local_pr = pr.getRegion(poi, scale).getInfo()\n",
        "pprint.pprint(local_pr[:5])"
      ]
    },
    {
      "cell_type": "markdown",
      "metadata": {
        "id": "Vfx3GTy4Jf3B"
      },
      "source": [
        "We now establish a procedure to get meteorological data around a given location in form of a `pandas.DataFrame`:"
      ]
    },
    {
      "cell_type": "code",
      "execution_count": null,
      "metadata": {
        "id": "Nr4UEVo3Je4B"
      },
      "outputs": [],
      "source": [
        "def ee_array_to_df(arr, list_of_bands):\n",
        "    \"\"\"Transforms client-side ee.Image.getRegion array to pandas.DataFrame.\"\"\"\n",
        "    df = pd.DataFrame(arr)\n",
        "\n",
        "    # Rearrange the header.\n",
        "    headers = df.iloc[0]\n",
        "    df = pd.DataFrame(df.values[1:], columns=headers)\n",
        "\n",
        "    # Convert the data to numeric values.\n",
        "    for band in list_of_bands:\n",
        "        df[band] = pd.to_numeric(df[band], errors=\"coerce\")\n",
        "\n",
        "    # Convert the time field into a datetime.\n",
        "    df[\"datetime\"] = pd.to_datetime(df[\"time\"], unit=\"ms\")\n",
        "\n",
        "    # Keep the columns of interest.\n",
        "    df = df[[\"time\", \"datetime\", *list_of_bands]]\n",
        "\n",
        "    # The datetime column is defined as index.\n",
        "    df = df.set_index(\"datetime\")\n",
        "\n",
        "    return df"
      ]
    },
    {
      "cell_type": "markdown",
      "metadata": {
        "id": "Ki85DguMJt36"
      },
      "source": [
        "We apply the function and see the head of the resulting `pandas.DataFrame`:"
      ]
    },
    {
      "cell_type": "code",
      "execution_count": null,
      "metadata": {
        "id": "dJsDa34yJzux"
      },
      "outputs": [],
      "source": [
        "pr_df = ee_array_to_df(local_pr, [\"precipitation\"])\n",
        "pr_df.head(10)"
      ]
    },
    {
      "cell_type": "markdown",
      "metadata": {
        "id": "Jg8Lb2FSKlcf"
      },
      "source": [
        "We do the same for potential evaporation:"
      ]
    },
    {
      "cell_type": "code",
      "execution_count": null,
      "metadata": {
        "id": "qKOzenXQKkz8"
      },
      "outputs": [],
      "source": [
        "# Evaluate local potential evapotranspiration.\n",
        "local_pet = pet.getRegion(poi, scale).getInfo()\n",
        "\n",
        "# Transform the result into a pandas dataframe.\n",
        "pet_df = ee_array_to_df(local_pet, [\"PET\", \"ET_QC\"])\n",
        "pet_df.head(5)"
      ]
    },
    {
      "cell_type": "markdown",
      "metadata": {
        "id": "slpz6norLFKT"
      },
      "source": [
        "Looking at both `pandas.DataFrame` shows the following points:\n",
        "- the time resolution between both datasets is not the same,\n",
        "- for some reasons, potential evapotranspiration cannot be calculated at some dates. It corresponds to lines where the quality indicator `ET_QC` is higher than 1.\n",
        "\n",
        "Both issues must be handled before implementing the iterative process: we want to work on a similar timeline with potential evapotranspiration and precipitation, and we want to avoid missing values."
      ]
    },
    {
      "cell_type": "markdown",
      "metadata": {
        "id": "OZT4aZ0zJPuA"
      },
      "source": [
        "#### Resampling the time resolution of an `ee.ImageCollection`\n",
        "\n",
        "To address these issues (homogeneous time index and missing values), we make a sum resampling of both datasets by month. When `PET` cannot be calculated, the monthly averaged value is considered. The key steps and functions used to resample are described below:\n",
        "- A new date index is defined as a sequence using the [`ee.List.sequence`](https://developers.google.com/earth-engine/apidocs/ee-list-sequence) method.\n",
        "- A function representing the resampling operation is defined. This function consists of grouping images of the desired time interval and calculating the sum. The sum is calculated by taking the mean between available images and multiplying it by the duration of the interval.\n",
        "- The user-supplied function is then mapped over the new time index using `.map()`.\n",
        "\n",
        "Finally, the resampling procedure reads as follows:"
      ]
    },
    {
      "cell_type": "code",
      "execution_count": null,
      "metadata": {
        "id": "e5OIfcKkHGla"
      },
      "outputs": [],
      "source": [
        "def sum_resampler(coll, freq, unit, scale_factor, band_name):\n",
        "    \"\"\"\n",
        "    This function aims to resample the time scale of an ee.ImageCollection.\n",
        "    The function returns an ee.ImageCollection with the averaged sum of the\n",
        "    band on the selected frequency.\n",
        "\n",
        "    coll: (ee.ImageCollection) only one band can be handled\n",
        "    freq: (int) corresponds to the resampling frequency\n",
        "    unit: (str) corresponds to the resampling time unit.\n",
        "                must be 'day', 'month' or 'year'\n",
        "    scale_factor (float): scaling factor used to get our value in the good unit\n",
        "    band_name (str) name of the output band\n",
        "    \"\"\"\n",
        "\n",
        "    # Define initial and final dates of the collection.\n",
        "    firstdate = ee.Date(\n",
        "        coll.sort(\"system:time_start\", True).first().get(\"system:time_start\")\n",
        "    )\n",
        "\n",
        "    lastdate = ee.Date(\n",
        "        coll.sort(\"system:time_start\", False).first().get(\"system:time_start\")\n",
        "    )\n",
        "\n",
        "    # Calculate the time difference between both dates.\n",
        "    # https://developers.google.com/earth-engine/apidocs/ee-date-difference\n",
        "    diff_dates = lastdate.difference(firstdate, unit)\n",
        "\n",
        "    # Define a new time index (for output).\n",
        "    new_index = ee.List.sequence(0, ee.Number(diff_dates), freq)\n",
        "\n",
        "    # Define the function that will be applied to our new time index.\n",
        "    def apply_resampling(date_index):\n",
        "        # Define the starting date to take into account.\n",
        "        startdate = firstdate.advance(ee.Number(date_index), unit)\n",
        "\n",
        "        # Define the ending date to take into account according\n",
        "        # to the desired frequency.\n",
        "        enddate = firstdate.advance(ee.Number(date_index).add(freq), unit)\n",
        "\n",
        "        # Calculate the number of days between starting and ending days.\n",
        "        diff_days = enddate.difference(startdate, \"day\")\n",
        "\n",
        "        # Calculate the composite image.\n",
        "        image = (\n",
        "            coll.filterDate(startdate, enddate)\n",
        "            .mean()\n",
        "            .multiply(diff_days)\n",
        "            .multiply(scale_factor)\n",
        "            .rename(band_name)\n",
        "        )\n",
        "\n",
        "        # Return the final image with the appropriate time index.\n",
        "        return image.set(\"system:time_start\", startdate.millis())\n",
        "\n",
        "    # Map the function to the new time index.\n",
        "    res = new_index.map(apply_resampling)\n",
        "\n",
        "    # Transform the result into an ee.ImageCollection.\n",
        "    res = ee.ImageCollection(res)\n",
        "\n",
        "    return res"
      ]
    },
    {
      "cell_type": "markdown",
      "metadata": {
        "id": "DLMDO48dONED"
      },
      "source": [
        "The precipitation dataset is now resampled by month as follows:\n",
        "- the collection to resample is defined as `pr`,\n",
        "- we want a collection on a monthly basis then `freq = 1` and `unit = \"month\"`,\n",
        "- there is no correction factor to apply according to the dataset description then `scale_factor = 1`,\n",
        "- `\"pr\"` is the name of the output band."
      ]
    },
    {
      "cell_type": "code",
      "execution_count": null,
      "metadata": {
        "id": "oGixp5YROUjL"
      },
      "outputs": [],
      "source": [
        "# Apply the resampling function to the precipitation dataset.\n",
        "pr_m = sum_resampler(pr, 1, \"month\", 1, \"pr\")\n",
        "\n",
        "# Evaluate the result at the location of interest.\n",
        "pprint.pprint(pr_m.getRegion(poi, scale).getInfo()[:5])"
      ]
    },
    {
      "cell_type": "markdown",
      "metadata": {
        "id": "lR26epuhOYO6"
      },
      "source": [
        "For evapotranspiration, we have to be careful with the unit. The dataset gives us an 8-day sum and a scale factor of 10 is applied. Then, to get a homogeneous unit, we need to rescale by dividing by 8 and 10: $\\frac{1}{10 \\times 8} = 0.0125$."
      ]
    },
    {
      "cell_type": "code",
      "execution_count": null,
      "metadata": {
        "id": "R1-d-F95O4E0"
      },
      "outputs": [],
      "source": [
        "# Apply the resampling function to the PET dataset.\n",
        "pet_m = sum_resampler(pet.select(\"PET\"), 1, \"month\", 0.0125, \"pet\")\n",
        "\n",
        "# Evaluate the result at the location of interest.\n",
        "pprint.pprint(pet_m.getRegion(poi, scale).getInfo()[:5])"
      ]
    },
    {
      "cell_type": "markdown",
      "metadata": {
        "id": "nygVLrMLPCK6"
      },
      "source": [
        "We now combine both `ee.ImageCollection` objects (`pet_m` and `pr_m`) using the [`ee.ImageCollection.combine`](https://developers.google.com/earth-engine/apidocs/ee-imagecollection-combine) method. Note that **corresponding images in both `ee.ImageCollection` objects need to have the same time index before combining**."
      ]
    },
    {
      "cell_type": "code",
      "execution_count": null,
      "metadata": {
        "id": "OAyQ838kPtYE"
      },
      "outputs": [],
      "source": [
        "# Combine precipitation and evapotranspiration.\n",
        "meteo = pr_m.combine(pet_m).sort(\"system:time_start\")\n",
        "\n",
        "# Import meteorological data as an array at the location of interest.\n",
        "meteo_arr = meteo.getRegion(poi, scale).getInfo()\n",
        "\n",
        "# Print the result.\n",
        "pprint.pprint(meteo_arr[:5])"
      ]
    },
    {
      "cell_type": "markdown",
      "metadata": {
        "id": "f6unGPWjP59M"
      },
      "source": [
        "We evaluate the result on our location of interest: "
      ]
    },
    {
      "cell_type": "code",
      "execution_count": null,
      "metadata": {
        "id": "2vsKIxXAP5Q6"
      },
      "outputs": [],
      "source": [
        "# Transform the array into a pandas dataframe and sort the index.\n",
        "meteo_df = ee_array_to_df(meteo_arr, [\"pr\", \"pet\"]).sort_index()\n",
        "\n",
        "# Data visualization\n",
        "fig, ax = plt.subplots(figsize=(15, 6))\n",
        "\n",
        "# Barplot associated with precipitations.\n",
        "meteo_df[\"pr\"].plot(kind=\"bar\", ax=ax, label=\"precipitation\")\n",
        "\n",
        "# Barplot associated with potential evapotranspiration.\n",
        "meteo_df[\"pet\"].plot(\n",
        "    kind=\"bar\", ax=ax, label=\"potential evapotranspiration\", color=\"orange\", alpha=0.5\n",
        ")\n",
        "\n",
        "# Add a legend.\n",
        "ax.legend()\n",
        "\n",
        "# Add some x/y-labels properties.\n",
        "ax.set_ylabel(\"Intensity [mm]\")\n",
        "ax.set_xlabel(None)\n",
        "\n",
        "# Define the date format and shape of x-labels.\n",
        "x_labels = meteo_df.index.strftime(\"%m-%Y\")\n",
        "ax.set_xticklabels(x_labels, rotation=90, fontsize=10)\n",
        "\n",
        "plt.show()"
      ]
    },
    {
      "cell_type": "markdown",
      "metadata": {
        "id": "FJQLYbU6Qwzc"
      },
      "source": [
        "### Implementation of the TM procedure\n",
        " \n"
      ]
    },
    {
      "cell_type": "markdown",
      "metadata": {
        "id": "qhxrtu1YGYa-"
      },
      "source": [
        "#### Description\n",
        "Some additional definitions are needed to formalize the Thornthwaite-Mather procedure. The following definitions are given in accordance with Allen et al. (1998) (the document can be downloaded [here](http://www.climasouth.eu/sites/default/files/FAO%2056.pdf)):\n",
        "\n",
        "$$TAW = 1000 \\times (\\theta_{FC} − \\theta_{WP})\\times Z{r}$$ where:\n",
        "- $TAW$: the total available soil water in the root zone [$mm$],\n",
        "- $\\theta_{FC}$: the water content at the field capacity [$m^{3} m^{-3}$],\n",
        "- $\\theta_{WP}$: the water content at wilting point [$m^{3} m^{-3}$],\n",
        "- $Z_{r}$: the rooting depth [$m$],\n",
        "\n",
        "Typical values of $\\theta_{FC}$ and $\\theta_{WP}$ for different soil types are given in Table 19 of Allen et al. (1998).\n",
        "\n",
        "The readily available water ($RAW$) is given by $RAW = p \\times TAW$, where $p$ is the average fraction of $TAW$ that can be depleted from the root zone before moisture stress (ranging between 0 to 1). This quantity is also noted $ST_{FC}$ which is the available water stored at field capacity in the root zone.\n",
        "\n",
        "Ranges of maximum effective rooting depth $Z_{r}$, and soil water depletion fraction for no stress $p$, for common crops are given in the Table 22 of Allen et al. (1998).  In addition, a global effective plant rooting depth dataset is provided by Yang et al. (2016) with a resolution of 0.5° by 0.5° (see the paper [here](https://agupubs.onlinelibrary.wiley.com/doi/10.1002/2016WR019392) and the dataset [here](https://data.csiro.au/collection/csiro:19813v1)).  \n",
        "\n",
        "According to this global dataset, the effective rooting depth around our region of interest (France) can reasonably assumed to $Z_{r} = 0.5$. Additionally, the parameter $p$ is also assumed constant and equal to  and $p = 0.5$ which is in line with common values described in Table 22 of Allen et al. (1998)."
      ]
    },
    {
      "cell_type": "code",
      "execution_count": null,
      "metadata": {
        "id": "jYdOlzZ1e1P1"
      },
      "outputs": [],
      "source": [
        "zr = ee.Image(0.5)\n",
        "p = ee.Image(0.5)"
      ]
    },
    {
      "cell_type": "markdown",
      "metadata": {
        "id": "C0i7UAfUhcul"
      },
      "source": [
        "In the following, we also consider an averaged value between reference depths of the water content at wilting point and field capacity:"
      ]
    },
    {
      "cell_type": "code",
      "execution_count": null,
      "metadata": {
        "id": "7TexXDIfhnad"
      },
      "outputs": [],
      "source": [
        "def olm_prop_mean(olm_image, band_output_name):\n",
        "    \"\"\"\n",
        "    This function calculates an averaged value of\n",
        "    soil properties between reference depths.\n",
        "    \"\"\"\n",
        "    mean_image = olm_image.expression(\n",
        "        \"(b0 + b10 + b30 + b60 + b100 + b200) / 6\",\n",
        "        {\n",
        "            \"b0\": olm_image.select(\"b0\"),\n",
        "            \"b10\": olm_image.select(\"b10\"),\n",
        "            \"b30\": olm_image.select(\"b30\"),\n",
        "            \"b60\": olm_image.select(\"b60\"),\n",
        "            \"b100\": olm_image.select(\"b100\"),\n",
        "            \"b200\": olm_image.select(\"b200\"),\n",
        "        },\n",
        "    ).rename(band_output_name)\n",
        "\n",
        "    return mean_image\n",
        "\n",
        "\n",
        "# Apply the function to field capacity and wilting point.\n",
        "fcm = olm_prop_mean(field_capacity, \"fc_mean\")\n",
        "wpm = olm_prop_mean(wilting_point, \"wp_mean\")\n",
        "\n",
        "# Calculate the theoretical available water.\n",
        "taw = (\n",
        "    (fcm.select(\"fc_mean\").subtract(wpm.select(\"wp_mean\"))).multiply(1000).multiply(zr)\n",
        ")\n",
        "\n",
        "# Calculate the stored water at the field capacity.\n",
        "stfc = taw.multiply(p)"
      ]
    },
    {
      "cell_type": "markdown",
      "metadata": {
        "id": "f6DwPylpe0HW"
      },
      "source": [
        "The Thornthwaite-Mather procedure used to estimate groundwater recharge is explicitly described by Steenhuis and Van der Molen (1985). This procedure uses monthly sums of potential evaporation, cumulative precipitation, and the moisture status of the soil which is calculated iteratively. The moisture status of the soils depends on the accumulated potential water loss ($APWL$). This parameter is calculated depending on whether the potential evaporation is greater than or less than the cumulative precipitation. The procedure reads as follow:\n",
        "\n",
        "**Case 1: potential evapotranspiration is higher than precipitation.**\n",
        "\n",
        "In that case, $PET\u003eP$ and $APWL_{m}$ is incremented as follows:\n",
        "$APWL_{m} = APWL_{m - 1} + (PET_{m} - P_{m})$ where:\n",
        "- $APWL_{m}$ (respectively $APWL_{m - 1}$) represents the accumulated potential water loss for the month $m$ (respectively at the previous month $m - 1$)\n",
        "- $PET_{m}$ the cumulative potential evapotranspiration at month $m$,\n",
        "- $P_{m}$ the cumulative precipitation at month $m$,\n",
        "\n",
        "and the relationship between $APWL$ and the amount of water stored in the root zone for the month $m$ is expressed as:\n",
        "$ST_{m} = ST_{FC} \\times [\\textrm{exp}(-APWL_{m}/ST_{FC})]$ where $ST_{m}$ is the available water stored in the root zone for the month $m$.\n",
        "\n",
        "**Case 2: potential evapotranspiration is lower than precipitation.**\n",
        "\n",
        "In that case, $PET\u003cP$ and $ST_{m}$ is incremented as follows:\n",
        "$ST_{m} = ST_{m-1} + (P_{m} - PET_{m})$.\n",
        "\n",
        "***Case 2.1: the storage $ST_{m}$ is higher than the water stored at the field capacity.***\n",
        "\n",
        "If $ST_{m} \u003e ST_{FC}$ the recharge is calculated as:\n",
        "$R_{m} = ST_{m} - ST_{FC}$\n",
        "\n",
        "In addition, the water stored at the end of the month $m$ becomes equal to $ST_{FC}$ and $APWL_{m}$ is set equal to zero.\n",
        "\n",
        "***Case 2.2: the storage $ST_{m}$ is less than or equal to the water stored at the field capacity.***\n",
        "\n",
        "If $ST_{m} \u003c= ST_{FC}$, $APWL_{m}$ is implemented as follows:\n",
        "$APWL_{m} = - ST_{FC} \\times \\textrm{ln}(ST_{m}/ST_{FC})$, and no percolation occurs.\n",
        "\n",
        "#### Initialization\n",
        "\n",
        "The initial time of the calculation is defined according to the first date of the meteorological collection:"
      ]
    },
    {
      "cell_type": "code",
      "execution_count": null,
      "metadata": {
        "id": "wDW_Ub-IPBia"
      },
      "outputs": [],
      "source": [
        "# Define the initial time (time0) according to the start of the collection.\n",
        "time0 = meteo.first().get(\"system:time_start\")"
      ]
    },
    {
      "cell_type": "markdown",
      "metadata": {
        "id": "1qkvu1bhneTE"
      },
      "source": [
        "Then, we initialize the calculation with an `ee.Image` where all bands associated to the hydric state of the soil are set equal to `ee.Image(0)`, except for the initial storage which is considered to be equal to the water content at field capacity, meaning that $ST_{0} = ST_{FC}$. "
      ]
    },
    {
      "cell_type": "code",
      "execution_count": null,
      "metadata": {
        "id": "ktEmnYsYnhp8"
      },
      "outputs": [],
      "source": [
        "# Initialize all bands describing the hydric state of the soil.\n",
        "# Do not forget to cast the type of the data with a .float().\n",
        "# Initial recharge.\n",
        "initial_rech = ee.Image(0).set(\"system:time_start\", time0).select([0], [\"rech\"]).float()\n",
        "\n",
        "# Initialization of APWL.\n",
        "initial_apwl = ee.Image(0).set(\"system:time_start\", time0).select([0], [\"apwl\"]).float()\n",
        "\n",
        "# Initialization of ST.\n",
        "initial_st = stfc.set(\"system:time_start\", time0).select([0], [\"st\"]).float()\n",
        "\n",
        "# Initialization of precipitation.\n",
        "initial_pr = ee.Image(0).set(\"system:time_start\", time0).select([0], [\"pr\"]).float()\n",
        "\n",
        "# Initialization of potential evapotranspiration.\n",
        "initial_pet = ee.Image(0).set(\"system:time_start\", time0).select([0], [\"pet\"]).float()"
      ]
    },
    {
      "cell_type": "markdown",
      "metadata": {
        "id": "xi3w8xZziUd_"
      },
      "source": [
        "We combine all these bands into one `ee.Image` adding new bands to the first using the [`ee.Image.addBands`](https://developers.google.com/earth-engine/apidocs/ee-image-addbands) method:\n"
      ]
    },
    {
      "cell_type": "code",
      "execution_count": null,
      "metadata": {
        "id": "Nts-USveO01U"
      },
      "outputs": [],
      "source": [
        "initial_image = initial_rech.addBands(\n",
        "    ee.Image([initial_apwl, initial_st, initial_pr, initial_pet])\n",
        ")"
      ]
    },
    {
      "cell_type": "markdown",
      "metadata": {
        "id": "yX_t1DV8jCFe"
      },
      "source": [
        "We also initialize a list in which new images will be added after each iteration. We create this server-side list using the [`ee.List`](https://developers.google.com/earth-engine/apidocs/ee-list) method."
      ]
    },
    {
      "cell_type": "code",
      "execution_count": null,
      "metadata": {
        "id": "MxdDQIaJjCZ1"
      },
      "outputs": [],
      "source": [
        "image_list = ee.List([initial_image])"
      ]
    },
    {
      "cell_type": "markdown",
      "metadata": {
        "id": "DuAKrup9nDWN"
      },
      "source": [
        "#### Iteration over an `ee.ImageCollection`\n",
        "The procedure is implemented by means of the [`ee.ImageCollection.iterate`](https://developers.google.com/earth-engine/apidocs/ee-imagecollection-iterate) method, which applies a user-supplied function to each element of a collection. For each time step, groundwater recharge is calculated using the `recharge_calculator` considering the previous hydric state of the soil and current meteorological conditions.\n",
        "\n",
        "Of course, considering the TM description, several cases must be distinguished to calculate groundwater recharge. The distinction is made by the definition of binary layers with different [logical operations](https://developers.google.com/earth-engine/guides/image_relational). It allows specific calculations to be applied in areas where a given condition is true using the [`ee.Image.where`](https://developers.google.com/earth-engine/apidocs/ee-image-where) method.\n",
        "\n",
        "The function we apply to each element of the meteorological dataset to calculate groundwater recharge is defined as follows."
      ]
    },
    {
      "cell_type": "code",
      "execution_count": null,
      "metadata": {
        "id": "K5gMOKgbijyp"
      },
      "outputs": [],
      "source": [
        "def recharge_calculator(image, image_list):\n",
        "    \"\"\"\n",
        "    Contains operations made at each iteration.\n",
        "    \"\"\"\n",
        "    # Determine the date of the current ee.Image of the collection.\n",
        "    localdate = image.date().millis()\n",
        "\n",
        "    # Import previous image stored in the list.\n",
        "    prev_im = ee.Image(ee.List(image_list).get(-1))\n",
        "\n",
        "    # Import previous APWL and ST.\n",
        "    prev_apwl = prev_im.select(\"apwl\")\n",
        "    prev_st = prev_im.select(\"st\")\n",
        "\n",
        "    # Import current precipitation and evapotranspiration.\n",
        "    pr_im = image.select(\"pr\")\n",
        "    pet_im = image.select(\"pet\")\n",
        "\n",
        "    # Initialize the new bands associated with recharge, apwl and st.\n",
        "    # DO NOT FORGET TO CAST THE TYPE WITH .float().\n",
        "    new_rech = (\n",
        "        ee.Image(0)\n",
        "        .set(\"system:time_start\", localdate)\n",
        "        .select([0], [\"rech\"])\n",
        "        .float()\n",
        "    )\n",
        "\n",
        "    new_apwl = (\n",
        "        ee.Image(0)\n",
        "        .set(\"system:time_start\", localdate)\n",
        "        .select([0], [\"apwl\"])\n",
        "        .float()\n",
        "    )\n",
        "\n",
        "    new_st = (\n",
        "        prev_st.set(\"system:time_start\", localdate).select([0], [\"st\"]).float()\n",
        "    )\n",
        "\n",
        "    # Calculate bands depending on the situation using binary layers with\n",
        "    # logical operations.\n",
        "\n",
        "    # CASE 1.\n",
        "    # Define zone1: the area where PET \u003e P.\n",
        "    zone1 = pet_im.gt(pr_im)\n",
        "\n",
        "    # Calculation of APWL in zone 1.\n",
        "    zone1_apwl = prev_apwl.add(pet_im.subtract(pr_im)).rename(\"apwl\")\n",
        "    # Implementation of zone 1 values for APWL.\n",
        "    new_apwl = new_apwl.where(zone1, zone1_apwl)\n",
        "\n",
        "    # Calculate ST in zone 1.\n",
        "    zone1_st = stfc.multiply(\n",
        "        ee.Image.exp(zone1_apwl.divide(stfc).multiply(-1))\n",
        "    ).rename(\"st\")\n",
        "    # Implement ST in zone 1.\n",
        "    new_st = new_st.where(zone1, zone1_st)\n",
        "\n",
        "    # CASE 2.\n",
        "    # Define zone2: the area where PET \u003c= P.\n",
        "    zone2 = pet_im.lte(pr_im)\n",
        "\n",
        "    # Calculate ST in zone 2.\n",
        "    zone2_st = prev_st.add(pr_im).subtract(pet_im).rename(\"st\")\n",
        "    # Implement ST in zone 2.\n",
        "    new_st = new_st.where(zone2, zone2_st)\n",
        "\n",
        "    # CASE 2.1.\n",
        "    # Define zone21: the area where PET \u003c= P and ST \u003e= STfc.\n",
        "    zone21 = zone2.And(zone2_st.gte(stfc))\n",
        "\n",
        "    # Calculate recharge in zone 21.\n",
        "    zone21_re = zone2_st.subtract(stfc).rename(\"rech\")\n",
        "    # Implement recharge in zone 21.\n",
        "    new_rech = new_rech.where(zone21, zone21_re)\n",
        "    # Implement ST in zone 21.\n",
        "    new_st = new_st.where(zone21, stfc)\n",
        "\n",
        "    # CASE 2.2.\n",
        "    # Define zone 22: the area where PET \u003c= P and ST \u003c STfc.\n",
        "    zone22 = zone2.And(zone2_st.lt(stfc))\n",
        "\n",
        "    # Calculate APWL in zone 22.\n",
        "    zone22_apwl = (\n",
        "        stfc.multiply(-1).multiply(ee.Image.log(zone2_st.divide(stfc))).rename(\"apwl\")\n",
        "    )\n",
        "    # Implement APWL in zone 22.\n",
        "    new_apwl = new_apwl.where(zone22, zone22_apwl)\n",
        "\n",
        "    # Create a mask around area where recharge can effectively be calculated.\n",
        "    # Where we have have PET, P, FCm, WPm (except urban areas, etc.).\n",
        "    mask = pet_im.gte(0).And(pr_im.gte(0)).And(fcm.gte(0)).And(wpm.gte(0))\n",
        "\n",
        "    # Apply the mask.\n",
        "    new_rech = new_rech.updateMask(mask)\n",
        "\n",
        "    # Add all Bands to our ee.Image.\n",
        "    new_image = new_rech.addBands(ee.Image([new_apwl, new_st, pr_im, pet_im]))\n",
        "\n",
        "    # Add the new ee.Image to the ee.List.\n",
        "    return ee.List(image_list).add(new_image)"
      ]
    },
    {
      "cell_type": "markdown",
      "metadata": {
        "id": "_0mTHghUj7mg"
      },
      "source": [
        "The TM procedure can now be applied to the meteorological `ee.ImageCollection`:"
      ]
    },
    {
      "cell_type": "code",
      "execution_count": null,
      "metadata": {
        "id": "9pIrsOAEkHzH"
      },
      "outputs": [],
      "source": [
        "# Iterate the user-supplied function to the meteo collection.\n",
        "rech_list = meteo.iterate(recharge_calculator, image_list)\n",
        "\n",
        "# Remove the initial image from our list.\n",
        "rech_list = ee.List(rech_list).remove(initial_image)\n",
        "\n",
        "# Transform the list into an ee.ImageCollection.\n",
        "rech_coll = ee.ImageCollection(rech_list)"
      ]
    },
    {
      "cell_type": "markdown",
      "metadata": {
        "id": "fFNjh1gFkSWI"
      },
      "source": [
        "Let's have a look at the result around the location of interest:"
      ]
    },
    {
      "cell_type": "code",
      "execution_count": null,
      "metadata": {
        "id": "eHUvIOo-kYbW"
      },
      "outputs": [],
      "source": [
        "arr = rech_coll.getRegion(poi, scale).getInfo()\n",
        "rdf = ee_array_to_df(arr, [\"pr\", \"pet\", \"apwl\", \"st\", \"rech\"]).sort_index()\n",
        "rdf.head(12)"
      ]
    },
    {
      "cell_type": "markdown",
      "metadata": {
        "id": "GFifwNVslCSx"
      },
      "source": [
        "The result can be displayed in the form of a barplot as follows:"
      ]
    },
    {
      "cell_type": "code",
      "execution_count": null,
      "metadata": {
        "id": "Y8bYXscklEyP"
      },
      "outputs": [],
      "source": [
        "# Data visualization in the form of barplots.\n",
        "fig, ax = plt.subplots(figsize=(15, 6))\n",
        "\n",
        "# Barplot associated with precipitation.\n",
        "rdf[\"pr\"].plot(kind=\"bar\", ax=ax, label=\"precipitation\", alpha=0.5)\n",
        "\n",
        "# Barplot associated with potential evapotranspiration.\n",
        "rdf[\"pet\"].plot(\n",
        "    kind=\"bar\", ax=ax, label=\"potential evapotranspiration\", color=\"orange\", alpha=0.2\n",
        ")\n",
        "\n",
        "# Barplot associated with groundwater recharge\n",
        "rdf[\"rech\"].plot(kind=\"bar\", ax=ax, label=\"recharge\", color=\"green\", alpha=1)\n",
        "\n",
        "# Add a legend.\n",
        "ax.legend()\n",
        "\n",
        "# Define x/y-labels properties.\n",
        "ax.set_ylabel(\"Intensity [mm]\")\n",
        "ax.set_xlabel(None)\n",
        "\n",
        "# Define the date format and shape of x-labels.\n",
        "x_labels = rdf.index.strftime(\"%m-%Y\")\n",
        "ax.set_xticklabels(x_labels, rotation=90, fontsize=10)\n",
        "\n",
        "plt.show()"
      ]
    },
    {
      "cell_type": "markdown",
      "metadata": {
        "id": "kZgH91IkRUrk"
      },
      "source": [
        "The result shows the distribution of precipitation, potential evapotranspiration, and groundwater recharge along the year. It shows that in our area of interest, groundwater recharge generally occurs from October to March. Even though a significant amount of precipitation occurs from April to September, evapotranspiration largely dominates because of high temperatures and sun exposure during these months. The result is that no percolation into aquifers occurs during this period.\n",
        "\n",
        "Now the annual average recharge over the period of interest can be calculated. To do that, we resample the `DataFrame` we've just created:"
      ]
    },
    {
      "cell_type": "code",
      "execution_count": null,
      "metadata": {
        "id": "z0Wen9E6lNuO"
      },
      "outputs": [],
      "source": [
        "# Resample the pandas dataframe on a yearly basis making the sum by year.\n",
        "rdfy = rdf.resample(\"Y\").sum()\n",
        "\n",
        "# Calculate the mean value.\n",
        "mean_recharge = rdfy[\"rech\"].mean()\n",
        "\n",
        "# Print the result.\n",
        "print(\n",
        "    \"The mean annual recharge at our point of interest is\", int(mean_recharge), \"mm/an\"\n",
        ")"
      ]
    },
    {
      "cell_type": "markdown",
      "metadata": {
        "id": "cKQgnAoLmB5m"
      },
      "source": [
        "#### Groundwater recharge comparison between multiple places\n",
        "\n",
        "We now may want to get local information about groundwater recharge and/or map this variable on an area of interest.\n",
        "\n",
        "Let's define a function to get the local information based on the `ee.ImageCollection` we've just built:"
      ]
    },
    {
      "cell_type": "code",
      "execution_count": null,
      "metadata": {
        "id": "6WnepgKNmb6X"
      },
      "outputs": [],
      "source": [
        "def get_local_recharge(i_date, f_date, lon, lat, scale):\n",
        "    \"\"\"\n",
        "    Returns a pandas df describing the cumulative groundwater\n",
        "    recharge by month\n",
        "    \"\"\"\n",
        "    # Define the location of interest with a point.\n",
        "    poi = ee.Geometry.Point(lon, lat)\n",
        "\n",
        "    # Evaluate the recharge around the location of interest.\n",
        "    rarr = rech_coll.filterDate(i_date, f_date).getRegion(poi, scale).getInfo()\n",
        "\n",
        "    # Transform the result into a pandas dataframe.\n",
        "    rdf = ee_array_to_df(rarr, [\"pr\", \"pet\", \"apwl\", \"st\", \"rech\"]).sort_index()\n",
        "    return rdf"
      ]
    },
    {
      "cell_type": "markdown",
      "metadata": {
        "id": "ye3goKdtmlj_"
      },
      "source": [
        "We now use this function on a second point of interest located near the city of Montpellier (France). This city is located in the south of France, and precipitation and groundwater recharge are expected to be much lower than in the previous case."
      ]
    },
    {
      "cell_type": "code",
      "execution_count": null,
      "metadata": {
        "id": "S5a_WzlDmsgH"
      },
      "outputs": [],
      "source": [
        "# Define the second location of interest by longitude/latitude.\n",
        "lon2 = 4.137152\n",
        "lat2 = 43.626945\n",
        "\n",
        "# Calculate the local recharge condition at this location.\n",
        "rdf2 = get_local_recharge(i_date, f_date, lon2, lat2, scale)\n",
        "\n",
        "# Resample the resulting pandas dataframe on a yearly basis (sum by year).\n",
        "rdf2y = rdf2.resample(\"Y\").sum()\n",
        "rdf2y.head()"
      ]
    },
    {
      "cell_type": "code",
      "execution_count": null,
      "metadata": {
        "id": "3asuE13gmx6-"
      },
      "outputs": [],
      "source": [
        "# Data Visualization\n",
        "fig, ax = plt.subplots(figsize=(15, 6))\n",
        "ax.axes.get_yaxis().set_visible(False)\n",
        "\n",
        "# Define the x-label locations.\n",
        "x = np.arange(len(rdfy))\n",
        "\n",
        "# Define the bar width.\n",
        "width = 0.25\n",
        "\n",
        "# Bar plot associated to groundwater recharge at the 1st location of interest.\n",
        "rect1 = ax.bar(\n",
        "    x - width / 2, rdfy.rech, width, label=\"Lyon (France)\", color=\"blue\", alpha=0.5\n",
        ")\n",
        "\n",
        "# Bar plot associated to groundwater recharge at the 2nd location of interest.\n",
        "rect2 = ax.bar(\n",
        "    x + width / 2,\n",
        "    rdf2y.rech,\n",
        "    width,\n",
        "    label=\"Montpellier (France)\",\n",
        "    color=\"red\",\n",
        "    alpha=0.5,\n",
        ")\n",
        "\n",
        "# Define a function to attach a label to each bar.\n",
        "def autolabel_recharge(rects):\n",
        "    \"\"\"Attach a text label above each bar in *rects*, displaying its height.\"\"\"\n",
        "    for rect in rects:\n",
        "        height = rect.get_height()\n",
        "        ax.annotate(\n",
        "            \"{}\".format(int(height)) + \" mm\",\n",
        "            xy=(rect.get_x() + rect.get_width() / 2, height),\n",
        "            xytext=(0, 3),  # 3 points vertical offset\n",
        "            textcoords=\"offset points\",\n",
        "            ha=\"center\",\n",
        "            va=\"bottom\",\n",
        "            fontsize=8,\n",
        "        )\n",
        "\n",
        "\n",
        "autolabel_recharge(rect1)\n",
        "autolabel_recharge(rect2)\n",
        "\n",
        "# Calculate the averaged annual recharge at both locations of interest.\n",
        "place1mean = int(rdfy[\"rech\"].mean())\n",
        "place2mean = int(rdf2y[\"rech\"].mean())\n",
        "\n",
        "# Add an horizontal line associated with averaged annual values (location 1).\n",
        "ax.hlines(\n",
        "    place1mean,\n",
        "    xmin=min(x) - width,\n",
        "    xmax=max(x) + width,\n",
        "    color=\"blue\",\n",
        "    lw=0.5,\n",
        "    label=\"average \" + str(place1mean) + \" mm/y\",\n",
        "    alpha=0.5,\n",
        ")\n",
        "\n",
        "# Add an horizontal line associated with averaged annual values (location 2).\n",
        "ax.hlines(\n",
        "    place2mean,\n",
        "    xmin=min(x) - width,\n",
        "    xmax=max(x) + width,\n",
        "    color=\"red\",\n",
        "    lw=0.5,\n",
        "    label=\"average \" + str(place2mean) + \" mm/y\",\n",
        "    alpha=0.5,\n",
        ")\n",
        "\n",
        "# Add a title.\n",
        "ax.set_title(\"Groundwater recharge comparison between two places\", fontsize=12)\n",
        "\n",
        "# Define some x/y-axis properties.\n",
        "ax.set_xticks(x)\n",
        "x_labels = rdfy.index.year.tolist()\n",
        "ax.set_xticklabels(x_labels, rotation=45, fontsize=10)\n",
        "\n",
        "ax.spines[\"left\"].set_visible(False)\n",
        "ax.spines[\"right\"].set_visible(False)\n",
        "ax.spines[\"top\"].set_visible(False)\n",
        "\n",
        "# Shrink current axis's height by 10% on the bottom.\n",
        "box = ax.get_position()\n",
        "ax.set_position([box.x0, box.y0 + box.height * 0.1, box.width, box.height * 0.9])\n",
        "\n",
        "# Add a legend below current axis.\n",
        "ax.legend(\n",
        "    loc=\"upper center\", bbox_to_anchor=(0.5, -0.15), fancybox=True, shadow=True, ncol=2\n",
        ")\n",
        "\n",
        "plt.show()"
      ]
    },
    {
      "cell_type": "markdown",
      "metadata": {
        "id": "kBwuvxPpT0-N"
      },
      "source": [
        "The result shows that the annual recharge in Lyon is almost twice as high as in the area of Montpellier. The result also shows a great variability of the annual recharge ranging from 99 mm/y to 275 mm/y in Lyon and from 17 mm/y to 158 mm/y in Montpellier."
      ]
    },
    {
      "cell_type": "markdown",
      "metadata": {
        "id": "NSgA58q5oWkZ"
      },
      "source": [
        "### Groundwater recharge map of France\n",
        "\n",
        "To get a map of groundwater recharge around our region of interest, let's create a mean composite `ee.Image` based on our resulting `ee.ImageCollection`."
      ]
    },
    {
      "cell_type": "code",
      "execution_count": null,
      "metadata": {
        "id": "9wK4Xq3jodDv"
      },
      "outputs": [],
      "source": [
        "# Calculate the averaged annual recharge.\n",
        "annual_rech = rech_coll.select(\"rech\").mean().multiply(12)\n",
        "\n",
        "# Calculate the average annual precipitation.\n",
        "annual_pr = rech_coll.select(\"pr\").mean().multiply(12)\n",
        "\n",
        "# Get a feature collection of administrative boundaries.\n",
        "countries = ee.FeatureCollection(\"FAO/GAUL/2015/level0\").select(\"ADM0_NAME\")\n",
        "\n",
        "# Filter the feature collection to subset France.\n",
        "france = countries.filter(ee.Filter.eq(\"ADM0_NAME\", \"France\"))\n",
        "\n",
        "# Clip the composite ee.Images around the region of interest.\n",
        "rech_france = annual_rech.clip(france)\n",
        "pr_france = annual_pr.clip(france)"
      ]
    },
    {
      "cell_type": "markdown",
      "metadata": {
        "id": "706s_wySox-A"
      },
      "source": [
        "And finally the map can be drawn."
      ]
    },
    {
      "cell_type": "code",
      "execution_count": null,
      "metadata": {
        "id": "_lwPR-QOoolR"
      },
      "outputs": [],
      "source": [
        "# Create a folium map.\n",
        "my_map = folium.Map(location=[lat, lon], zoom_start=6, zoom_control=False)\n",
        "\n",
        "# Set visualization parameters for recharge.\n",
        "rech_vis_params = {\n",
        "    \"bands\": \"rech\",\n",
        "    \"min\": 0,\n",
        "    \"max\": 500,\n",
        "    \"opacity\": 1,\n",
        "    \"palette\": [\"red\", \"orange\", \"yellow\", \"green\", \"blue\", \"purple\"],\n",
        "}\n",
        "\n",
        "# Set visualization parameters for precipitation.\n",
        "pr_vis_params = {\n",
        "    \"bands\": \"pr\",\n",
        "    \"min\": 500,\n",
        "    \"max\": 1500,\n",
        "    \"opacity\": 1,\n",
        "    \"palette\": [\"white\", \"blue\"],\n",
        "}\n",
        "\n",
        "# Define a recharge colormap.\n",
        "rech_colormap = cm.LinearColormap(\n",
        "    colors=rech_vis_params[\"palette\"],\n",
        "    vmin=rech_vis_params[\"min\"],\n",
        "    vmax=rech_vis_params[\"max\"],\n",
        ")\n",
        "\n",
        "# Define a precipitation colormap.\n",
        "pr_colormap = cm.LinearColormap(\n",
        "    colors=pr_vis_params[\"palette\"],\n",
        "    vmin=pr_vis_params[\"min\"],\n",
        "    vmax=pr_vis_params[\"max\"],\n",
        ")\n",
        "\n",
        "# Caption of the recharge colormap.\n",
        "rech_colormap.caption = \"Average annual recharge rate (mm/year)\"\n",
        "\n",
        "# Caption of the precipitation colormap.\n",
        "pr_colormap.caption = \"Average annual precipitation rate (mm/year)\"\n",
        "\n",
        "# Add the precipitation composite to the map object.\n",
        "my_map.add_ee_layer(pr_france, pr_vis_params, \"Precipitation\")\n",
        "\n",
        "# Add the recharge composite to the map object.\n",
        "my_map.add_ee_layer(rech_france, rech_vis_params, \"Recharge\")\n",
        "\n",
        "# Add a marker at both locations of interest.\n",
        "folium.Marker([lat, lon], popup=\"Area of Lyon\").add_to(my_map)\n",
        "folium.Marker([lat2, lon2], popup=\"Area of Montpellier\").add_to(my_map)\n",
        "\n",
        "# Add the colormaps to the map.\n",
        "my_map.add_child(rech_colormap)\n",
        "my_map.add_child(pr_colormap)\n",
        "\n",
        "# Add a layer control panel to the map.\n",
        "my_map.add_child(folium.LayerControl())\n",
        "\n",
        "# Display the map.\n",
        "display(my_map)"
      ]
    },
    {
      "cell_type": "markdown",
      "metadata": {
        "id": "lVvo7YavvETm"
      },
      "source": [
        "The resulting map represents the averaged annual precipitation and groundwater recharge rate in France over the period 2015-2019. Groundwater recharge is represented between 0 (red) to 500 mm/year (purple). Precipitation is represented between 500 (white) to 1500 mm/year (blue).\n",
        "\n",
        "Please note the following points:\n",
        "- The precipitation dataset used in this tutorial is not available over +/- 50 deg latitudes. That is why (1) the northern part of France is not covered by the precipitation/recharge, and (2) some anomalies/discontinuities can be observed near the boundary of the dataset.\n",
        "- The procedure described in this tutorial does not consider the terrain slope which has a strong influence on runoff, especially in areas with significant relief. In these areas, groundwater recharge is overestimated because runoff is not considered.\n",
        "- Snow cover has a more complex contribution to groundwater recharge than precipitation. This process is not taken into account in this tutorial. Hence, groundwater recharge is overestimated in areas where snow cover period is significant.\n",
        "- The recharge calculation can be highly influenced by missing precipitation or potential evapotranspiration values. This issue is partially addressed by the dataset resampling procedure, but missing value can still exist and this point must be checked before considering that the calculated recharge is representative and reliable."
      ]
    },
    {
      "cell_type": "markdown",
      "metadata": {
        "id": "E9HR5eDhOXX7"
      },
      "source": [
        "### Bibliography\n",
        "\n",
        "**Allen RG, Pereira LS, Raes D, Smith M (1998).** Crop evapotranspiration: guidelines for computing crop water requirements. *Irrigation and Drainage Paper 56*, FAO, Rome.\n",
        "\n",
        "**Saxton, K. E., \u0026 Rawls, W. J. (2006).** Soil water characteristic estimates by texture and organic matter for hydrologic solutions. *Soil science society of America Journal*, 70(5), 1569-1578.\n",
        "\n",
        "**Steenhuis, T. S., \u0026 Van der Molen, W. H. (1986).** The Thornthwaite-Mather procedure as a simple engineering method to predict recharge. *Journal of Hydrology*, 84(3-4), 221-229.\n",
        "\n",
        "**Thornthwaite, C. W., \u0026 Mather, J. R. (1957).** Instructions and tables for computing potential evapotranspiration and the water balance. *Publ. Climatol.*, 10(3).\n",
        "\n",
        "**Yang, Y., Donohue, R. J., \u0026 McVicar, T. R. (2016).** Global estimation of effective plant rooting depth: Implications for hydrological modeling. *Water Resources Research*, 52(10), 8260-8276.\n"
      ]
    },
    {
      "cell_type": "markdown",
      "metadata": {
        "id": "VOf_UnIcZKBJ"
      },
      "source": [
        "### Acknowledgements\n",
        "\n",
        "Thanks to Susanne Benz for precious advice."
      ]
    }
  ],
  "metadata": {
    "colab": {
      "collapsed_sections": [],
      "name": "groundwater_recharge_estimation_guiattard_9_12.ipynb",
      "provenance": [],
      "toc_visible": true
    },
    "kernelspec": {
      "display_name": "Python 3",
      "language": "python",
      "name": "python3"
    },
    "language_info": {
      "codemirror_mode": {
        "name": "ipython",
        "version": 3
      },
      "file_extension": ".py",
      "mimetype": "text/x-python",
      "name": "python",
      "nbconvert_exporter": "python",
      "pygments_lexer": "ipython3",
      "version": "3.8.0"
    }
  },
  "nbformat": 4,
  "nbformat_minor": 0
}
