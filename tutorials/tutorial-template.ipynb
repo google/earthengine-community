{
  "nbformat": 4,
  "nbformat_minor": 0,
  "metadata": {
    "colab": {
      "name": "Earth Engine Community Tutorial Template",
      "provenance": [],
      "collapsed_sections": []
    },
    "kernelspec": {
      "name": "python3",
      "display_name": "Python 3"
    }
  },
  "cells": [
    {
      "cell_type": "code",
      "metadata": {
        "id": "8kdsGkYJXXKc",
        "colab_type": "code",
        "colab": {}
      },
      "source": [
        "#@title Copyright 2020 The Earth Engine Community Authors { display-mode: \"form\" }\n",
        "#\n",
        "# Licensed under the Apache License, Version 2.0 (the \"License\");\n",
        "# you may not use this file except in compliance with the License.\n",
        "# You may obtain a copy of the License at\n",
        "#\n",
        "# https://www.apache.org/licenses/LICENSE-2.0\n",
        "#\n",
        "# Unless required by applicable law or agreed to in writing, software\n",
        "# distributed under the License is distributed on an \"AS IS\" BASIS,\n",
        "# WITHOUT WARRANTIES OR CONDITIONS OF ANY KIND, either express or implied.\n",
        "# See the License for the specific language governing permissions and\n",
        "# limitations under the License."
      ],
      "execution_count": 0,
      "outputs": []
    },
    {
      "cell_type": "markdown",
      "metadata": {
        "id": "l18M9_r5XmAQ",
        "colab_type": "text"
      },
      "source": [
        "# Tutorial title\n",
        "Author: github-username\n",
        "\n",
        "This notebook serves as a template for creating your own Earth Engine Community Tutorial using Python and Colab. Before proceeding, please be sure you've read [Writing your own tutorial](https://developers.google.com/earth-engine/tutorials/community/write), as well as the [Earth Engine Community Tutorials Style Guide](https://developers.google.com/earth-engine/tutorials/community/styleguide).\n",
        "\n",
        "To get started, replace `Tutorial title` and `github-username` above with your own. Then, replace the text in this cell with a few sentences describing what the user is going to learn in this tutorial. Be sure to include _concise_ background information; only include what's helpful and relevant. When in doubt, leave it out!\n",
        "\n",
        "IMPORTANT: Be sure not to modify the copyright header at the beginning of this tutorial."
      ]
    },
    {
      "cell_type": "markdown",
      "metadata": {
        "id": "U7i55vr_aKCB",
        "colab_type": "text"
      },
      "source": [
        "### Run me first\n",
        "\n",
        "Run the following cell to initialize the API. The output will contain instructions on how to grant this notebook access to Earth Engine using your account."
      ]
    },
    {
      "cell_type": "code",
      "metadata": {
        "id": "XeFsiSp2aDL6",
        "colab_type": "code",
        "colab": {}
      },
      "source": [
        "import ee\n",
        "\n",
        "# Trigger the authentication flow.\n",
        "ee.Authenticate()\n",
        "\n",
        "# Initialize the library.\n",
        "ee.Initialize()"
      ],
      "execution_count": 0,
      "outputs": []
    },
    {
      "cell_type": "markdown",
      "metadata": {
        "id": "VOf_UnIcZKBJ",
        "colab_type": "text"
      },
      "source": [
        "## Additional instructions\n",
        "\n",
        "Break up your tutorial into sections, one section per task, using text cells to describe each code block. Code should be split into small chunks that can be executed together and that can be easily understood by the reader.\n",
        "\n",
        "You can find useful examples of how to render images, charts, and interactive maps in the [Earth Engine Python API Colab Setup](\n",
        "https://colab.research.google.com/github/google/earthengine-api/blob/master/python/examples/ipynb/ee-api-colab-setup.ipynb) notebook.\n",
        "\n",
        "### Getting started\n",
        "\n",
        "Before starting work on your tutorial:\n",
        "\n",
        "1. If you haven't already, [Join GitHub](https://github.com/join).\n",
        "\n",
        "1. File a [Tutorial proposal](TODO) to discuss your idea with the maintainers.\n",
        "\n",
        "1. Once your proposal is approved, [fork the Earth Engine Community repository](https://github.com/google/earthengine-community/fork) to your personal account.\n",
        "\n",
        "1. In Colab, click \"File > Save a copy in GitHub\", granting Colab permission to write to your personal repo as necessary.\n",
        "\n",
        "  > Note: Pull requests are linked to the branch from which they were created. If you plan to have more than one tutorial out for review at a time, you will need to create a separate branch for each pull request ([instructions](https://help.github.com/en/github/collaborating-with-issues-and-pull-requests/creating-and-deleting-branches-within-your-repository)).\n",
        "\n",
        "1. In the \"Copy to GitHub\" dialog that appears, select the `master` branch of the fork created above.\n",
        "\n",
        "1. Enter the \"File path\" as follows:\n",
        "\n",
        "   ```\n",
        "   tutorials/your-tutorial-name/tutorial.ipynb\n",
        "   ```\n",
        "\n",
        "   Replace `your-tutorial-name` with a short filename, using only lowercase letters, numbers, and \"-\", preserving the \".ipynb\" extension.\n",
        "\n",
        "1. Write your tutorial directly in the notebook, leaving the copyright cell intact, and updating the title cell.\n",
        "\n",
        "### Adding images\n",
        "\n",
        "Images should be uploaded to your fork in GitHub under the `tutorials/your-tutorial-name` folder created above. Images must be directly under that directory; nested subdirectories are not allowed (e.g., \"`tutorials/your-tutorial-name/`~`img/`~`cool-viz.jpg`\").\n",
        "\n",
        "To refer to images uploaded in your tutorial, use Markdown's image syntax, refering to the filename of the image, without specifying its absolute path or full URL. For example:\n",
        "\n",
        "```md\n",
        "![alt text](my-awesome-viz.jpg)\n",
        "```\n",
        "\n",
        "### Submitting tutorial for review\n",
        "\n",
        "Once your tutorial is ready for review:\n",
        "\n",
        "1. Follow GitHub's instructions on [creating a pull request](https://help.github.com/en/github/collaborating-with-issues-and-pull-requests/creating-a-pull-request-from-a-fork) to request a review.\n",
        "\n",
        "1. Reviewer(s) will be assigned to review your notebook. Work with them to finalize its content. Once ready, the Earth Engine Community maintainers will approve, merge, and publish your tutorial in the [Earth Engine developers documentation](https://developers.google.com/earth-engine/tutorials/community)."
      ]
    }
  ]
}